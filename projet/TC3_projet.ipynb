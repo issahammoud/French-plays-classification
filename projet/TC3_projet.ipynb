{
 "cells": [
  {
   "cell_type": "markdown",
   "metadata": {},
   "source": [
    "<div class = \"alert alert-info>\n",
    "              <h2>Imports</h2>\n",
    "              </div>"
   ]
  },
  {
   "cell_type": "markdown",
   "metadata": {},
   "source": [
    "<div class = \"alert alert-info\">\n",
    "      <h2>Imports</h2>\n",
    "                  </div>"
   ]
  },
  {
   "cell_type": "code",
   "execution_count": 1,
   "metadata": {},
   "outputs": [],
   "source": [
    "# precise which gpu to use in the machine\n",
    "# import os\n",
    "# os.environ[\"CUDA_DEVICE_ORDER\"]=\"0000:86:00.0\"\n",
    "# os.environ[\"CUDA_VISIBLE_DEVICES\"]=\"2\""
   ]
  },
  {
   "cell_type": "code",
   "execution_count": 2,
   "metadata": {},
   "outputs": [
    {
     "name": "stderr",
     "output_type": "stream",
     "text": [
      "Using TensorFlow backend.\n"
     ]
    }
   ],
   "source": [
    "import os\n",
    "import re\n",
    "import numpy as np\n",
    "from collections import Counter\n",
    "import pandas as pd\n",
    "import seaborn as sns\n",
    "import matplotlib.pyplot as plt \n",
    "import nltk\n",
    "from sklearn.metrics import precision_recall_fscore_support\n",
    "from sklearn.model_selection import StratifiedShuffleSplit\n",
    "from sklearn.model_selection import train_test_split\n",
    "from keras.preprocessing.text import Tokenizer\n",
    "from keras.preprocessing.sequence import pad_sequences\n",
    "from keras.layers  import Embedding\n",
    "from keras.models import Sequential\n",
    "from keras.layers import Flatten, Dense\n",
    "from keras import layers\n",
    "from keras import preprocessing\n"
   ]
  },
  {
   "cell_type": "markdown",
   "metadata": {},
   "source": [
    "<div class = \"alert alert-info\">\n",
    "    <h2>Prétraitement</h2>\n",
    "    <h3>Extraction du genre, de la periode, division des oeuvres par actes, nettoyage des balises et suppression des mots vides</h3>\n",
    "                  </div>"
   ]
  },
  {
   "cell_type": "code",
   "execution_count": 3,
   "metadata": {},
   "outputs": [
    {
     "data": {
      "text/plain": [
       "(3156, 3156)"
      ]
     },
     "execution_count": 3,
     "metadata": {},
     "output_type": "execute_result"
    }
   ],
   "source": [
    "path = \"corpus/theatreClassique/XML/\"\n",
    "liste = os.listdir(path)\n",
    "stop_words = nltk.corpus.stopwords.words(\"french\")\n",
    "y = []\n",
    "X = []\n",
    "periode=[]\n",
    "\n",
    "for texte in liste:\n",
    "    \n",
    "    try:\n",
    "\n",
    "        f = open(path+texte,'r',encoding=\"utf-8\")\n",
    "        contenu = f.read()\n",
    "        \n",
    "    except UnicodeDecodeError:\n",
    "        \n",
    "        f = open(path+texte,'r',encoding=\"latin-1\")\n",
    "        contenu = f.read()\n",
    "    \n",
    "    contenu = contenu.lower()\n",
    "    \n",
    "    # division du texte par actes     \n",
    "    acts = re.findall('<div1 .*?>(.*?)</div1>',contenu,flags=re.DOTALL)\n",
    "    \n",
    "    # extraction du genre. On suppose que tous les actes d'un meme texte possedent le meme genre.\n",
    "    y += re.findall('<genre>(.*?)</genre>',contenu)*len(acts)\n",
    "    \n",
    "    # extraction de la periode. On suppose que tous les actes d'un meme texte possedent la meme periode.\n",
    "    periode +=re.findall('<periode>(.*?)</periode>',contenu)*len(acts)\n",
    "\n",
    "    for i in range(len(acts)):\n",
    "        \n",
    "        # elimination des balises\n",
    "        acts[i] = re.sub('<.*?>', ' ', acts[i])\n",
    "        \n",
    "        # elimination des mots vides.\n",
    "        acts[i] = re.sub(r'\\b(' + r'|'.join(stop_words) + r')\\b\\s*','', acts[i])\n",
    "        \n",
    "        # subtitution des \\n et \\n\\t qui existent une ou plusieurs fois consecutives par \\n.\n",
    "        acts[i] = re.sub(\"(\\s*\\n\\t*\\s*)\", \" \\n \", acts[i])\n",
    "        \n",
    "        X.append(acts[i])\n",
    "        \n",
    "    f.close()\n",
    "\n",
    "len(X),len(y)"
   ]
  },
  {
   "cell_type": "markdown",
   "metadata": {},
   "source": [
    "<div class = \"alert alert-info\">\n",
    "      <h2>Choix des données relevantes et suppression des duplications</h2>\n",
    "                  </div>"
   ]
  },
  {
   "cell_type": "code",
   "execution_count": 4,
   "metadata": {},
   "outputs": [
    {
     "name": "stdout",
     "output_type": "stream",
     "text": [
      "On a 20 classes qui existent au moins 10 fois.\n"
     ]
    },
    {
     "data": {
      "text/plain": [
       "['tragédie',\n",
       " 'comédie',\n",
       " 'tragi-comédie',\n",
       " 'opéra',\n",
       " 'drame',\n",
       " 'proverbe',\n",
       " 'pastorale',\n",
       " 'comédie héroïque',\n",
       " 'opuscule dramatique',\n",
       " 'monologue',\n",
       " 'tragédie en musique',\n",
       " 'comédie-ballet',\n",
       " 'farce',\n",
       " 'opéra comique',\n",
       " 'parodie',\n",
       " 'pastorale héroïque',\n",
       " 'tragédie lyrique',\n",
       " 'ballet',\n",
       " 'comédie galante',\n",
       " 'divertissement']"
      ]
     },
     "execution_count": 4,
     "metadata": {},
     "output_type": "execute_result"
    }
   ],
   "source": [
    "\"\"\"\n",
    "mettre min_nb=200 pour avoir juste 3 classes ayant d'occurence plus que 200\n",
    "\"\"\" \n",
    "min_nb = 10\n",
    "classes = [x[0] for x in Counter(y).most_common() if x[1] >= min_nb]\n",
    "print(\"On a {} classes qui existent au moins {} fois.\".format(len(classes),min_nb))\n",
    "classes"
   ]
  },
  {
   "cell_type": "code",
   "execution_count": 5,
   "metadata": {},
   "outputs": [
    {
     "data": {
      "text/plain": [
       "[('tragédie', 1190),\n",
       " ('comédie', 1096),\n",
       " ('tragi-comédie', 348),\n",
       " ('opéra', 70),\n",
       " ('drame', 65),\n",
       " ('proverbe', 43),\n",
       " ('pastorale', 28),\n",
       " ('comédie héroïque', 27),\n",
       " ('opuscule dramatique', 25),\n",
       " ('monologue', 24),\n",
       " ('tragédie en musique', 23),\n",
       " ('comédie-ballet', 19),\n",
       " ('farce', 19),\n",
       " ('opéra comique', 17),\n",
       " ('parodie', 17),\n",
       " ('pastorale héroïque', 15),\n",
       " ('tragédie lyrique', 14),\n",
       " ('ballet', 11),\n",
       " ('comédie galante', 11),\n",
       " ('divertissement', 10)]"
      ]
     },
     "execution_count": 5,
     "metadata": {},
     "output_type": "execute_result"
    }
   ],
   "source": [
    "# trie des classes par occurences.\n",
    "most_common = Counter(y).most_common(len(classes))\n",
    "most_common"
   ]
  },
  {
   "cell_type": "code",
   "execution_count": 6,
   "metadata": {},
   "outputs": [
    {
     "name": "stdout",
     "output_type": "stream",
     "text": [
      "La taille du dataset est 3072 actes\n",
      "Le nombre moyenne des mots par actes (ponctuation inclue) est 2485.355513307985\n",
      "Le nombre maximum des mots par actes (ponctuation inclue) est  17365\n",
      "Le nombre minimum des mots par actes (ponctuation inclue) est  75\n",
      "Le nombre de mots totales (non uniques) est 7855703\n",
      "Le nombre de mots totales unique est 279383\n"
     ]
    }
   ],
   "source": [
    "nbre_acts = np.sum([x[1] for x in most_common])\n",
    "\n",
    "words = []\n",
    "for x in X:\n",
    "    words+=x.split(\" \")\n",
    "\n",
    "nbre_words = len(words)\n",
    "unique_words = np.array([x[0] for x in Counter(words).most_common()])\n",
    "\n",
    "maxlen = np.max([len(x.split(\" \")) - np.sum(np.array(x.split(\" \")) == \"\") for x in X])\n",
    "minlen = np.min([len(x.split(\" \")) - np.sum(np.array(x.split(\" \")) == \"\") for x in X])\n",
    "meanlen = np.mean([len(x.split(\" \")) - np.sum(np.array(x.split(\" \")) == \"\") for x in X])\n",
    "\n",
    "\n",
    "print(\"La taille du dataset est {} actes\".format(nbre_acts))\n",
    "print(\"Le nombre moyenne des mots par actes (ponctuation inclue) est {}\".format(meanlen))\n",
    "print(\"Le nombre maximum des mots par actes (ponctuation inclue) est  {}\".format(maxlen))\n",
    "print(\"Le nombre minimum des mots par actes (ponctuation inclue) est  {}\".format(minlen))\n",
    "print(\"Le nombre de mots totales (non uniques) est {}\".format(nbre_words))\n",
    "print(\"Le nombre de mots totales unique est {}\".format(unique_words.shape[0]))"
   ]
  },
  {
   "cell_type": "code",
   "execution_count": 7,
   "metadata": {},
   "outputs": [],
   "source": [
    "# une dataframe qui contient toutes les donnees meme non frequentes\n",
    "df = pd.DataFrame({\"Acts\":np.array(X),\"Labels\":np.array(y)})\n",
    "\n",
    "# une dataframe qui contient juste les donnees frequentes\n",
    "data = df[df[\"Labels\"].apply(lambda x: x in classes)]"
   ]
  },
  {
   "cell_type": "code",
   "execution_count": 8,
   "metadata": {},
   "outputs": [
    {
     "data": {
      "text/html": [
       "<div>\n",
       "<style scoped>\n",
       "    .dataframe tbody tr th:only-of-type {\n",
       "        vertical-align: middle;\n",
       "    }\n",
       "\n",
       "    .dataframe tbody tr th {\n",
       "        vertical-align: top;\n",
       "    }\n",
       "\n",
       "    .dataframe thead th {\n",
       "        text-align: right;\n",
       "    }\n",
       "</style>\n",
       "<table border=\"1\" class=\"dataframe\">\n",
       "  <thead>\n",
       "    <tr style=\"text-align: right;\">\n",
       "      <th></th>\n",
       "      <th>Acts</th>\n",
       "      <th>Labels</th>\n",
       "    </tr>\n",
       "  </thead>\n",
       "  <tbody>\n",
       "    <tr>\n",
       "      <th>count</th>\n",
       "      <td>3156</td>\n",
       "      <td>3156</td>\n",
       "    </tr>\n",
       "    <tr>\n",
       "      <th>unique</th>\n",
       "      <td>3150</td>\n",
       "      <td>50</td>\n",
       "    </tr>\n",
       "    <tr>\n",
       "      <th>top</th>\n",
       "      <td>annexes \\n liste oeuvres théâtrales jean raci...</td>\n",
       "      <td>tragédie</td>\n",
       "    </tr>\n",
       "    <tr>\n",
       "      <th>freq</th>\n",
       "      <td>4</td>\n",
       "      <td>1190</td>\n",
       "    </tr>\n",
       "  </tbody>\n",
       "</table>\n",
       "</div>"
      ],
      "text/plain": [
       "                                                     Acts    Labels\n",
       "count                                                3156      3156\n",
       "unique                                               3150        50\n",
       "top      annexes \\n liste oeuvres théâtrales jean raci...  tragédie\n",
       "freq                                                    4      1190"
      ]
     },
     "execution_count": 8,
     "metadata": {},
     "output_type": "execute_result"
    }
   ],
   "source": [
    "df.describe()"
   ]
  },
  {
   "cell_type": "code",
   "execution_count": 9,
   "metadata": {},
   "outputs": [
    {
     "data": {
      "text/html": [
       "<div>\n",
       "<style scoped>\n",
       "    .dataframe tbody tr th:only-of-type {\n",
       "        vertical-align: middle;\n",
       "    }\n",
       "\n",
       "    .dataframe tbody tr th {\n",
       "        vertical-align: top;\n",
       "    }\n",
       "\n",
       "    .dataframe thead th {\n",
       "        text-align: right;\n",
       "    }\n",
       "</style>\n",
       "<table border=\"1\" class=\"dataframe\">\n",
       "  <thead>\n",
       "    <tr style=\"text-align: right;\">\n",
       "      <th></th>\n",
       "      <th>Acts</th>\n",
       "      <th>Labels</th>\n",
       "    </tr>\n",
       "  </thead>\n",
       "  <tbody>\n",
       "    <tr>\n",
       "      <th>count</th>\n",
       "      <td>3072</td>\n",
       "      <td>3072</td>\n",
       "    </tr>\n",
       "    <tr>\n",
       "      <th>unique</th>\n",
       "      <td>3066</td>\n",
       "      <td>20</td>\n",
       "    </tr>\n",
       "    <tr>\n",
       "      <th>top</th>\n",
       "      <td>annexes \\n liste oeuvres théâtrales jean raci...</td>\n",
       "      <td>tragédie</td>\n",
       "    </tr>\n",
       "    <tr>\n",
       "      <th>freq</th>\n",
       "      <td>4</td>\n",
       "      <td>1190</td>\n",
       "    </tr>\n",
       "  </tbody>\n",
       "</table>\n",
       "</div>"
      ],
      "text/plain": [
       "                                                     Acts    Labels\n",
       "count                                                3072      3072\n",
       "unique                                               3066        20\n",
       "top      annexes \\n liste oeuvres théâtrales jean raci...  tragédie\n",
       "freq                                                    4      1190"
      ]
     },
     "execution_count": 9,
     "metadata": {},
     "output_type": "execute_result"
    }
   ],
   "source": [
    "data.describe()"
   ]
  },
  {
   "cell_type": "code",
   "execution_count": 10,
   "metadata": {},
   "outputs": [],
   "source": [
    "data = data.drop_duplicates()"
   ]
  },
  {
   "cell_type": "code",
   "execution_count": 11,
   "metadata": {},
   "outputs": [
    {
     "data": {
      "text/html": [
       "<div>\n",
       "<style scoped>\n",
       "    .dataframe tbody tr th:only-of-type {\n",
       "        vertical-align: middle;\n",
       "    }\n",
       "\n",
       "    .dataframe tbody tr th {\n",
       "        vertical-align: top;\n",
       "    }\n",
       "\n",
       "    .dataframe thead th {\n",
       "        text-align: right;\n",
       "    }\n",
       "</style>\n",
       "<table border=\"1\" class=\"dataframe\">\n",
       "  <thead>\n",
       "    <tr style=\"text-align: right;\">\n",
       "      <th></th>\n",
       "      <th>Acts</th>\n",
       "      <th>Labels</th>\n",
       "    </tr>\n",
       "  </thead>\n",
       "  <tbody>\n",
       "    <tr>\n",
       "      <th>count</th>\n",
       "      <td>3066</td>\n",
       "      <td>3066</td>\n",
       "    </tr>\n",
       "    <tr>\n",
       "      <th>unique</th>\n",
       "      <td>3066</td>\n",
       "      <td>20</td>\n",
       "    </tr>\n",
       "    <tr>\n",
       "      <th>top</th>\n",
       "      <td>acte iii \\n scène i. suzon, clitandre. \\n suz...</td>\n",
       "      <td>tragédie</td>\n",
       "    </tr>\n",
       "    <tr>\n",
       "      <th>freq</th>\n",
       "      <td>1</td>\n",
       "      <td>1184</td>\n",
       "    </tr>\n",
       "  </tbody>\n",
       "</table>\n",
       "</div>"
      ],
      "text/plain": [
       "                                                     Acts    Labels\n",
       "count                                                3066      3066\n",
       "unique                                               3066        20\n",
       "top      acte iii \\n scène i. suzon, clitandre. \\n suz...  tragédie\n",
       "freq                                                    1      1184"
      ]
     },
     "execution_count": 11,
     "metadata": {},
     "output_type": "execute_result"
    }
   ],
   "source": [
    "data.describe()"
   ]
  },
  {
   "cell_type": "code",
   "execution_count": 12,
   "metadata": {},
   "outputs": [],
   "source": [
    "# ajout d'une colonne contenant les annotations en format numerique.\n",
    "\n",
    "data[\"Labels\"] = pd.Categorical(data[\"Labels\"])\n",
    "\n",
    "data[\"LabelsNum\"] = data[\"Labels\"].cat.codes"
   ]
  },
  {
   "cell_type": "markdown",
   "metadata": {},
   "source": [
    "<div class = \"alert alert-info\">\n",
    "      <h2>Période </h2>\n",
    "                  </div>"
   ]
  },
  {
   "cell_type": "code",
   "execution_count": 13,
   "metadata": {},
   "outputs": [
    {
     "data": {
      "text/plain": [
       "array(['(antique)', '(medieval)', '1501-1600', '1541-1550', '1571-1580',\n",
       "       '1611-1620', '1621-1630', '1631-1640', '1641-1650', '1651-1660',\n",
       "       '1661-1670', '1671-1680', '1681-1690', '1691-1700', '1701-1710',\n",
       "       '1711-1720', '1721-1730', '1731-1740', '1741-1750', '1751-1760',\n",
       "       '1761-1770', '1771-1780', '1781-1790', '1791-1800', '1801-1810',\n",
       "       '1821-1830', '1831-1840', '1841-1850', '1851-1860', '1861-1870',\n",
       "       '1871-1880', '1881-1890', '1891-1900', '1901-1910', '1911-1920'],\n",
       "      dtype='<U10')"
      ]
     },
     "execution_count": 13,
     "metadata": {},
     "output_type": "execute_result"
    }
   ],
   "source": [
    "np.unique(periode)"
   ]
  },
  {
   "cell_type": "code",
   "execution_count": 14,
   "metadata": {},
   "outputs": [],
   "source": [
    "for i in range(len(periode)):\n",
    "    if periode[i] in ['1541-1550', '1571-1580']:\n",
    "        periode[i]='1501-1600'\n",
    "    elif periode[i] in ['1611-1620', '1621-1630', '1631-1640', '1641-1650', '1651-1660','1661-1670', '1671-1680', '1681-1690', '1691-1700']:\n",
    "        periode[i]='1601-1700'\n",
    "    elif periode[i] in ['1711-1720', '1721-1730', '1731-1740', '1741-1750', '1751-1760','1761-1770', '1771-1780', '1781-1790', '1791-1800']:\n",
    "        periode[i]='1701-1800'\n",
    "    elif periode[i] in ['1801-1810','1821-1830', '1831-1840', '1841-1850', '1851-1860', '1861-1870','1871-1880', '1881-1890', '1891-1900']:\n",
    "        periode[i]='1801-1900'\n",
    "    elif periode[i] in ['1901-1910', '1911-1920']:\n",
    "        periode[i]='1901-2000'"
   ]
  },
  {
   "cell_type": "code",
   "execution_count": 15,
   "metadata": {},
   "outputs": [
    {
     "name": "stdout",
     "output_type": "stream",
     "text": [
      "On a 6 classes qui existent au moins 10 fois, ils sont :\n"
     ]
    },
    {
     "data": {
      "text/plain": [
       "['1601-1700', '1701-1800', '1701-1710', '1801-1900', '(antique)', '1501-1600']"
      ]
     },
     "execution_count": 15,
     "metadata": {},
     "output_type": "execute_result"
    }
   ],
   "source": [
    "classesP = [x[0] for x in Counter(periode).most_common() if x[1] >= min_nb]\n",
    "print(\"On a {} classes qui existent au moins {} fois, ils sont :\".format(len(classesP),min_nb))\n",
    "classesP"
   ]
  },
  {
   "cell_type": "code",
   "execution_count": 16,
   "metadata": {},
   "outputs": [
    {
     "data": {
      "text/plain": [
       "[('1601-1700', 1802),\n",
       " ('1701-1800', 1036),\n",
       " ('1701-1710', 131),\n",
       " ('1801-1900', 115),\n",
       " ('(antique)', 47),\n",
       " ('1501-1600', 22)]"
      ]
     },
     "execution_count": 16,
     "metadata": {},
     "output_type": "execute_result"
    }
   ],
   "source": [
    "most_commonP = Counter(periode).most_common(len(classesP))\n",
    "most_commonP"
   ]
  },
  {
   "cell_type": "code",
   "execution_count": 17,
   "metadata": {},
   "outputs": [],
   "source": [
    "dfP = pd.DataFrame({\"Acts\":np.array(X),\"Labels\":np.array(y),\"Periodes\":np.array(periode)})\n",
    "\n",
    "dataP = dfP[dfP[\"Periodes\"].apply(lambda x: x in classesP)]"
   ]
  },
  {
   "cell_type": "code",
   "execution_count": 18,
   "metadata": {},
   "outputs": [
    {
     "data": {
      "text/html": [
       "<div>\n",
       "<style scoped>\n",
       "    .dataframe tbody tr th:only-of-type {\n",
       "        vertical-align: middle;\n",
       "    }\n",
       "\n",
       "    .dataframe tbody tr th {\n",
       "        vertical-align: top;\n",
       "    }\n",
       "\n",
       "    .dataframe thead th {\n",
       "        text-align: right;\n",
       "    }\n",
       "</style>\n",
       "<table border=\"1\" class=\"dataframe\">\n",
       "  <thead>\n",
       "    <tr style=\"text-align: right;\">\n",
       "      <th></th>\n",
       "      <th>Acts</th>\n",
       "      <th>Labels</th>\n",
       "      <th>Periodes</th>\n",
       "    </tr>\n",
       "  </thead>\n",
       "  <tbody>\n",
       "    <tr>\n",
       "      <th>count</th>\n",
       "      <td>3153</td>\n",
       "      <td>3153</td>\n",
       "      <td>3153</td>\n",
       "    </tr>\n",
       "    <tr>\n",
       "      <th>unique</th>\n",
       "      <td>3147</td>\n",
       "      <td>49</td>\n",
       "      <td>6</td>\n",
       "    </tr>\n",
       "    <tr>\n",
       "      <th>top</th>\n",
       "      <td>annexes \\n liste oeuvres théâtrales jean raci...</td>\n",
       "      <td>tragédie</td>\n",
       "      <td>1601-1700</td>\n",
       "    </tr>\n",
       "    <tr>\n",
       "      <th>freq</th>\n",
       "      <td>4</td>\n",
       "      <td>1190</td>\n",
       "      <td>1802</td>\n",
       "    </tr>\n",
       "  </tbody>\n",
       "</table>\n",
       "</div>"
      ],
      "text/plain": [
       "                                                     Acts    Labels   Periodes\n",
       "count                                                3153      3153       3153\n",
       "unique                                               3147        49          6\n",
       "top      annexes \\n liste oeuvres théâtrales jean raci...  tragédie  1601-1700\n",
       "freq                                                    4      1190       1802"
      ]
     },
     "execution_count": 18,
     "metadata": {},
     "output_type": "execute_result"
    }
   ],
   "source": [
    "dataP.describe()"
   ]
  },
  {
   "cell_type": "code",
   "execution_count": 19,
   "metadata": {},
   "outputs": [
    {
     "data": {
      "text/html": [
       "<div>\n",
       "<style scoped>\n",
       "    .dataframe tbody tr th:only-of-type {\n",
       "        vertical-align: middle;\n",
       "    }\n",
       "\n",
       "    .dataframe tbody tr th {\n",
       "        vertical-align: top;\n",
       "    }\n",
       "\n",
       "    .dataframe thead th {\n",
       "        text-align: right;\n",
       "    }\n",
       "</style>\n",
       "<table border=\"1\" class=\"dataframe\">\n",
       "  <thead>\n",
       "    <tr style=\"text-align: right;\">\n",
       "      <th></th>\n",
       "      <th>Acts</th>\n",
       "      <th>Labels</th>\n",
       "      <th>Periodes</th>\n",
       "    </tr>\n",
       "  </thead>\n",
       "  <tbody>\n",
       "    <tr>\n",
       "      <th>count</th>\n",
       "      <td>3147</td>\n",
       "      <td>3147</td>\n",
       "      <td>3147</td>\n",
       "    </tr>\n",
       "    <tr>\n",
       "      <th>unique</th>\n",
       "      <td>3147</td>\n",
       "      <td>49</td>\n",
       "      <td>6</td>\n",
       "    </tr>\n",
       "    <tr>\n",
       "      <th>top</th>\n",
       "      <td>acte iii \\n scène i. suzon, clitandre. \\n suz...</td>\n",
       "      <td>tragédie</td>\n",
       "      <td>1601-1700</td>\n",
       "    </tr>\n",
       "    <tr>\n",
       "      <th>freq</th>\n",
       "      <td>1</td>\n",
       "      <td>1184</td>\n",
       "      <td>1796</td>\n",
       "    </tr>\n",
       "  </tbody>\n",
       "</table>\n",
       "</div>"
      ],
      "text/plain": [
       "                                                     Acts    Labels   Periodes\n",
       "count                                                3147      3147       3147\n",
       "unique                                               3147        49          6\n",
       "top      acte iii \\n scène i. suzon, clitandre. \\n suz...  tragédie  1601-1700\n",
       "freq                                                    1      1184       1796"
      ]
     },
     "execution_count": 19,
     "metadata": {},
     "output_type": "execute_result"
    }
   ],
   "source": [
    "dataP = dataP.drop_duplicates()\n",
    "dataP.describe()"
   ]
  },
  {
   "cell_type": "code",
   "execution_count": 20,
   "metadata": {},
   "outputs": [],
   "source": [
    "dataP[\"Periodes\"] = pd.Categorical(dataP[\"Periodes\"])\n",
    "\n",
    "dataP[\"PeriodesNum\"] = dataP[\"Periodes\"].cat.codes"
   ]
  },
  {
   "cell_type": "code",
   "execution_count": 21,
   "metadata": {},
   "outputs": [],
   "source": [
    "plabels = dataP[\"PeriodesNum\"].values"
   ]
  },
  {
   "cell_type": "markdown",
   "metadata": {},
   "source": [
    "<div class = \"alert alert-info\">\n",
    "      <h2>Préparation à l'entrainement - distribution identique par classe </h2>\n",
    "                  </div>"
   ]
  },
  {
   "cell_type": "code",
   "execution_count": 22,
   "metadata": {},
   "outputs": [
    {
     "data": {
      "image/png": "[encoded data removed]",
      "text/plain": [
       "<matplotlib.figure.Figure at 0x7fe5a06135f8>"
      ]
     },
     "metadata": {},
     "output_type": "display_data"
    }
   ],
   "source": [
    "sns.set()\n",
    "\n",
    "plt.figure(figsize=(12,8))\n",
    "\n",
    "plt.title(\"distribution des classes\",fontsize = 16)\n",
    "\n",
    "pd.Series(data[\"Labels\"].values).value_counts(ascending = True).plot(kind='barh')\n",
    "\n",
    "plt.show()"
   ]
  },
  {
   "cell_type": "code",
   "execution_count": 23,
   "metadata": {},
   "outputs": [],
   "source": [
    "# distribution des donnees en train et test en respectant la distribution par classe\n",
    "\n",
    "sss = StratifiedShuffleSplit(test_size = 0.25)\n",
    "\n",
    "acts = data[\"Acts\"].values\n",
    "labels = data[\"Labels\"].values\n",
    "\n",
    "for train_index, test_index in sss.split(acts,labels):\n",
    "    \n",
    "    X_train, X_test = acts[train_index], acts[test_index]\n",
    "    y_train, y_test = labels[train_index], labels[test_index]"
   ]
  },
  {
   "cell_type": "code",
   "execution_count": 24,
   "metadata": {},
   "outputs": [
    {
     "data": {
      "text/plain": [
       "((2299,), (767,))"
      ]
     },
     "execution_count": 24,
     "metadata": {},
     "output_type": "execute_result"
    }
   ],
   "source": [
    "X_train.shape,X_test.shape"
   ]
  },
  {
   "cell_type": "code",
   "execution_count": 25,
   "metadata": {},
   "outputs": [
    {
     "data": {
      "image/png": "[encoded data removed]",
      "text/plain": [
       "<matplotlib.figure.Figure at 0x7fe5a056df28>"
      ]
     },
     "metadata": {},
     "output_type": "display_data"
    }
   ],
   "source": [
    "# verification si la distribution par classe est la meme\n",
    "\n",
    "plt.figure(figsize=(20,8))\n",
    "plt.subplot(121)\n",
    "plt.title(\"Distribution des classes pour l'apprentissage\",fontsize = 16)\n",
    "pd.Series(y_train).value_counts(normalize = True).plot(kind='bar')\n",
    "\n",
    "plt.subplot(122)\n",
    "plt.title(\"Distribution des classes pour le test\",fontsize = 16)\n",
    "pd.Series(y_test).value_counts(normalize = True).plot(kind='bar')\n",
    "\n",
    "plt.show()"
   ]
  },
  {
   "cell_type": "markdown",
   "metadata": {},
   "source": [
    "<div class=\"alert alert-info\">\n",
    "    <h2>Word Embeddings</h2>\n",
    "    </div>"
   ]
  },
  {
   "cell_type": "markdown",
   "metadata": {},
   "source": [
    "<p> Pour télécharger le word embedding pré entrainé, entrer à <a href= \"http://fauconnier.github.io/?fbclid=IwAR0frC2KtZ79NAzeIpEcYceiNi3oiFltgYAuvMI6-H0ae0LcrIJohoLmfBA#data\">ce site</a> et telecharger le premier fichier binaire (2.7 GB).<br>\n",
    "Après taper ces commandes dans une shell au meme répertoire.\n",
    "<ul>\n",
    "    <li>git clone https://github.com/marekrei/convertvec</li>\n",
    "    <li>cd convertvec/</li>\n",
    "    <li>make</li>\n",
    "    <li>./convertvec bin2txt /<nom_du_fichier_telecharger.bin/> output.txt</li>\n",
    "</ul>\n",
    "</p>   "
   ]
  },
  {
   "cell_type": "code",
   "execution_count": 26,
   "metadata": {},
   "outputs": [
    {
     "name": "stdout",
     "output_type": "stream",
     "text": [
      "erreur\n",
      "Found 893466 word vectors.\n"
     ]
    }
   ],
   "source": [
    "# mon fichier est dans ce repertoire, il faut changer ca chez vous selon votre directoire\n",
    "direct = 'convertvec/'\n",
    "\n",
    "embeddings_index = {}\n",
    "\n",
    "f = open(os.path.join(direct, 'output.txt'),encoding='utf-8')\n",
    "\n",
    "r = re.compile(\"[0-9 -]\")\n",
    "\n",
    "# le plongemet est à la forme d'une liste, où le premier element est le nom, et le reste son embedding.\n",
    "try:\n",
    "    for line in f:\n",
    "        try:\n",
    "            values = line.split()\n",
    "            word = values[0]\n",
    "            \n",
    "            # il y a des donnes bruités dans le plogement, je les nettoye ici, \n",
    "            # j'élimine tous qui n'est pas un caratcere numerique.\n",
    "            newlist = list(filter(r.match, values[1:]))\n",
    "            \n",
    "            coefs = np.asarray(newlist, dtype='float32')\n",
    "            \n",
    "            embeddings_index[word] = coefs\n",
    "        except :\n",
    "            print(\"error\")\n",
    "except UnicodeDecodeError:\n",
    "    print(\"erreur\")\n",
    "        \n",
    "f.close()\n",
    "\n",
    "# Il y a un probleme de lecture, on a arrive a extraire juste ce nombre d'elements\n",
    "print('Found %s word vectors.' % len(embeddings_index))"
   ]
  },
  {
   "cell_type": "code",
   "execution_count": 27,
   "metadata": {},
   "outputs": [
    {
     "name": "stdout",
     "output_type": "stream",
     "text": [
      "Found 120453 unique tokens.\n"
     ]
    },
    {
     "data": {
      "text/plain": [
       "((2299, 2500), (767, 2500), (2299, 20), (767, 20))"
      ]
     },
     "execution_count": 27,
     "metadata": {},
     "output_type": "execute_result"
    }
   ],
   "source": [
    "# maxlen egale le nombre moyenne de mots par acte.\n",
    "maxlen  = 2500\n",
    "\n",
    "max_words = 50000\n",
    "\n",
    "\"\"\"\n",
    "changer data par dataP si vous voulez tester le modele sur les periodes\n",
    "\"\"\" \n",
    "texts = data[\"Acts\"].values\n",
    "\n",
    "tokenizer = Tokenizer(num_words = max_words)\n",
    "\n",
    "tokenizer.fit_on_texts(texts)\n",
    "\n",
    "sequences = np.array(tokenizer.texts_to_sequences(texts))\n",
    "\n",
    "word_index = tokenizer.word_index\n",
    "\n",
    "print('Found %s unique tokens.' % len(word_index))\n",
    "\n",
    "X = preprocessing.sequence.pad_sequences(sequences, maxlen=maxlen)\n",
    "\n",
    "sss = StratifiedShuffleSplit(test_size = 0.25)\n",
    "\n",
    "# utilise plabels au lieu de labels si tu veux tester sur les periodes\n",
    "for train_index, test_index in sss.split(X,labels):\n",
    "    \n",
    "    X_train, X_test = X[train_index], X[test_index]\n",
    "    y_train, y_test = labels[train_index], labels[test_index]\n",
    "\n",
    "y_train = pd.get_dummies(y_train)\n",
    "y_test = pd.get_dummies(y_test)\n",
    "\n",
    "X_train.shape,X_test.shape,y_train.shape,y_test.shape"
   ]
  },
  {
   "cell_type": "code",
   "execution_count": 28,
   "metadata": {},
   "outputs": [
    {
     "data": {
      "text/plain": [
       "50000"
      ]
     },
     "execution_count": 28,
     "metadata": {},
     "output_type": "execute_result"
    }
   ],
   "source": [
    "# dimension de l'embedding imposée par le corpus telechargé\n",
    "embedding_dim = 200\n",
    "\n",
    "c = 0\n",
    "embedding_matrix = np.zeros((max_words, embedding_dim))\n",
    "\n",
    "# eliminer les mots vides de l'embedding car il n'existe pas dans nos donnees\n",
    "for word, i in word_index.items():\n",
    "    if word not in stop_words and c < max_words:\n",
    "    \n",
    "        embedding_vector = embeddings_index.get(word)\n",
    "        \n",
    "        if embedding_vector is not None:\n",
    "            embedding_matrix[c] = embedding_vector\n",
    "            c+=1\n",
    "            \n",
    "c"
   ]
  },
  {
   "cell_type": "code",
   "execution_count": 29,
   "metadata": {},
   "outputs": [
    {
     "name": "stdout",
     "output_type": "stream",
     "text": [
      "_________________________________________________________________\n",
      "Layer (type)                 Output Shape              Param #   \n",
      "=================================================================\n",
      "embedding_1 (Embedding)      (None, 2500, 200)         10000000  \n",
      "_________________________________________________________________\n",
      "flatten_1 (Flatten)          (None, 500000)            0         \n",
      "_________________________________________________________________\n",
      "dense_1 (Dense)              (None, 20)                10000020  \n",
      "_________________________________________________________________\n",
      "dense_2 (Dense)              (None, 20)                420       \n",
      "=================================================================\n",
      "Total params: 20,000,440\n",
      "Trainable params: 20,000,440\n",
      "Non-trainable params: 0\n",
      "_________________________________________________________________\n"
     ]
    }
   ],
   "source": [
    "# definir le modele \n",
    "model = Sequential()\n",
    "model.add(Embedding(max_words,embedding_dim, input_length = maxlen))\n",
    "model.add(Flatten())\n",
    "model.add(Dense(20, activation=\"sigmoid\"))\n",
    "\n",
    "\"\"\"\n",
    "Changer len(classes) par len(classesP) si vous voulez tester le modele sur les periodes\n",
    "\"\"\"\n",
    "model.add(Dense(len(classes), activation='softmax'))\n",
    "model.summary()"
   ]
  },
  {
   "cell_type": "code",
   "execution_count": 30,
   "metadata": {},
   "outputs": [],
   "source": [
    "# ajouter l'embedding entrainé, commenter ces lignes pour ne pas utiliser l'embedding pré-entrainé\n",
    "# il faut redefinir le modele si vous voulez essayer sans modele pré-entrainé, apres essayer avec un modele pré-entrainé\n",
    "model.layers[0].set_weights([embedding_matrix])\n",
    "model.layers[0].trainable = False"
   ]
  },
  {
   "cell_type": "code",
   "execution_count": 31,
   "metadata": {
    "scrolled": true
   },
   "outputs": [
    {
     "name": "stdout",
     "output_type": "stream",
     "text": [
      "Train on 1839 samples, validate on 460 samples\n",
      "Epoch 1/50\n",
      "1839/1839 [==============================] - 3s 2ms/step - loss: 2.3639 - acc: 0.3583 - val_loss: 2.2841 - val_acc: 0.3457\n",
      "Epoch 2/50\n",
      "1839/1839 [==============================] - 2s 952us/step - loss: 2.1324 - acc: 0.4035 - val_loss: 2.1537 - val_acc: 0.3457\n",
      "Epoch 3/50\n",
      "1839/1839 [==============================] - 2s 954us/step - loss: 2.0086 - acc: 0.4356 - val_loss: 2.0006 - val_acc: 0.5152\n",
      "Epoch 4/50\n",
      "1839/1839 [==============================] - 2s 950us/step - loss: 1.8843 - acc: 0.5443 - val_loss: 1.9368 - val_acc: 0.4217\n",
      "Epoch 5/50\n",
      "1839/1839 [==============================] - 2s 948us/step - loss: 1.7817 - acc: 0.5666 - val_loss: 1.8325 - val_acc: 0.4913\n",
      "Epoch 6/50\n",
      "1839/1839 [==============================] - 2s 954us/step - loss: 1.7143 - acc: 0.5579 - val_loss: 1.7726 - val_acc: 0.5174\n",
      "Epoch 7/50\n",
      "1839/1839 [==============================] - 2s 944us/step - loss: 1.6458 - acc: 0.5943 - val_loss: 1.7412 - val_acc: 0.4935\n",
      "Epoch 8/50\n",
      "1839/1839 [==============================] - 2s 1ms/step - loss: 1.5887 - acc: 0.5884 - val_loss: 1.7255 - val_acc: 0.5130\n",
      "Epoch 9/50\n",
      "1839/1839 [==============================] - 2s 932us/step - loss: 1.5541 - acc: 0.5954 - val_loss: 1.6720 - val_acc: 0.5239\n",
      "Epoch 10/50\n",
      "1839/1839 [==============================] - 2s 950us/step - loss: 1.5079 - acc: 0.6101 - val_loss: 1.6533 - val_acc: 0.5217\n",
      "Epoch 11/50\n",
      "1839/1839 [==============================] - 1s 763us/step - loss: 1.4800 - acc: 0.6052 - val_loss: 1.6383 - val_acc: 0.5217\n",
      "Epoch 12/50\n",
      "1839/1839 [==============================] - 1s 442us/step - loss: 1.4475 - acc: 0.6107 - val_loss: 1.6779 - val_acc: 0.5174\n",
      "Epoch 13/50\n",
      "1839/1839 [==============================] - 2s 911us/step - loss: 1.4265 - acc: 0.6123 - val_loss: 1.6041 - val_acc: 0.5065\n",
      "Epoch 14/50\n",
      "1839/1839 [==============================] - 1s 748us/step - loss: 1.4138 - acc: 0.6297 - val_loss: 1.5827 - val_acc: 0.5304\n",
      "Epoch 15/50\n",
      "1839/1839 [==============================] - 1s 414us/step - loss: 1.4102 - acc: 0.6166 - val_loss: 1.5850 - val_acc: 0.5283\n",
      "Epoch 16/50\n",
      "1839/1839 [==============================] - 1s 413us/step - loss: 1.3752 - acc: 0.6297 - val_loss: 1.5709 - val_acc: 0.5196\n",
      "Epoch 17/50\n",
      "1839/1839 [==============================] - 1s 418us/step - loss: 1.3613 - acc: 0.6362 - val_loss: 1.6142 - val_acc: 0.5174\n",
      "Epoch 18/50\n",
      "1839/1839 [==============================] - 1s 423us/step - loss: 1.3325 - acc: 0.6378 - val_loss: 1.5795 - val_acc: 0.5348\n",
      "Epoch 19/50\n",
      "1839/1839 [==============================] - 1s 413us/step - loss: 1.3050 - acc: 0.6569 - val_loss: 1.5597 - val_acc: 0.5370\n",
      "Epoch 20/50\n",
      "1839/1839 [==============================] - 1s 411us/step - loss: 1.2941 - acc: 0.6574 - val_loss: 1.5709 - val_acc: 0.5391\n",
      "Epoch 21/50\n",
      "1839/1839 [==============================] - 1s 421us/step - loss: 1.2723 - acc: 0.6710 - val_loss: 1.6190 - val_acc: 0.5239\n",
      "Epoch 22/50\n",
      "1839/1839 [==============================] - 1s 447us/step - loss: 1.2357 - acc: 0.6786 - val_loss: 1.5516 - val_acc: 0.5087\n",
      "Epoch 23/50\n",
      "1839/1839 [==============================] - 2s 930us/step - loss: 1.2204 - acc: 0.6835 - val_loss: 1.5356 - val_acc: 0.5370\n",
      "Epoch 24/50\n",
      "1839/1839 [==============================] - 2s 947us/step - loss: 1.1955 - acc: 0.6846 - val_loss: 1.5333 - val_acc: 0.5283\n",
      "Epoch 25/50\n",
      "1839/1839 [==============================] - 2s 937us/step - loss: 1.1722 - acc: 0.6862 - val_loss: 1.5394 - val_acc: 0.5326\n",
      "Epoch 26/50\n",
      "1839/1839 [==============================] - 2s 937us/step - loss: 1.1689 - acc: 0.6944 - val_loss: 1.5274 - val_acc: 0.5239\n",
      "Epoch 27/50\n",
      "1839/1839 [==============================] - 2s 946us/step - loss: 1.1483 - acc: 0.6966 - val_loss: 1.5556 - val_acc: 0.4957\n",
      "Epoch 28/50\n",
      "1839/1839 [==============================] - 2s 945us/step - loss: 1.1265 - acc: 0.7058 - val_loss: 1.5247 - val_acc: 0.5457\n",
      "Epoch 29/50\n",
      "1839/1839 [==============================] - 2s 947us/step - loss: 1.0960 - acc: 0.7058 - val_loss: 1.5594 - val_acc: 0.5217\n",
      "Epoch 30/50\n",
      "1839/1839 [==============================] - 2s 937us/step - loss: 1.0915 - acc: 0.7172 - val_loss: 1.5475 - val_acc: 0.5326\n",
      "Epoch 31/50\n",
      "1839/1839 [==============================] - 2s 938us/step - loss: 1.0705 - acc: 0.7140 - val_loss: 1.5109 - val_acc: 0.5587\n",
      "Epoch 32/50\n",
      "1839/1839 [==============================] - 2s 953us/step - loss: 1.0561 - acc: 0.7227 - val_loss: 1.6187 - val_acc: 0.5130\n",
      "Epoch 33/50\n",
      "1839/1839 [==============================] - 2s 960us/step - loss: 1.0523 - acc: 0.7200 - val_loss: 1.5006 - val_acc: 0.5522\n",
      "Epoch 34/50\n",
      "1839/1839 [==============================] - 2s 949us/step - loss: 1.0351 - acc: 0.7221 - val_loss: 1.5759 - val_acc: 0.5457\n",
      "Epoch 35/50\n",
      "1839/1839 [==============================] - 2s 954us/step - loss: 1.0140 - acc: 0.7265 - val_loss: 1.6241 - val_acc: 0.5326\n",
      "Epoch 36/50\n",
      "1839/1839 [==============================] - 2s 941us/step - loss: 1.0012 - acc: 0.7265 - val_loss: 1.6825 - val_acc: 0.5304\n",
      "Epoch 37/50\n",
      "1839/1839 [==============================] - 2s 951us/step - loss: 0.9814 - acc: 0.7292 - val_loss: 1.5350 - val_acc: 0.5304\n",
      "Epoch 38/50\n",
      "1839/1839 [==============================] - 2s 958us/step - loss: 0.9698 - acc: 0.7281 - val_loss: 1.5959 - val_acc: 0.5370\n",
      "Epoch 39/50\n",
      "1839/1839 [==============================] - 2s 943us/step - loss: 0.9679 - acc: 0.7249 - val_loss: 1.6546 - val_acc: 0.5348\n",
      "Epoch 40/50\n",
      "1839/1839 [==============================] - 2s 964us/step - loss: 0.9460 - acc: 0.7336 - val_loss: 1.5528 - val_acc: 0.5630\n",
      "Epoch 41/50\n",
      "1839/1839 [==============================] - 2s 968us/step - loss: 0.9429 - acc: 0.7346 - val_loss: 1.6714 - val_acc: 0.5370\n",
      "Epoch 42/50\n",
      "1839/1839 [==============================] - 2s 969us/step - loss: 0.9150 - acc: 0.7374 - val_loss: 1.5679 - val_acc: 0.5413\n",
      "Epoch 43/50\n",
      "1839/1839 [==============================] - 2s 961us/step - loss: 0.8958 - acc: 0.7439 - val_loss: 1.6098 - val_acc: 0.5174\n",
      "Epoch 44/50\n",
      "1839/1839 [==============================] - 2s 958us/step - loss: 0.8933 - acc: 0.7711 - val_loss: 1.5757 - val_acc: 0.4957\n",
      "Epoch 45/50\n",
      "1839/1839 [==============================] - 2s 953us/step - loss: 0.8837 - acc: 0.7760 - val_loss: 1.5357 - val_acc: 0.5630\n",
      "Epoch 46/50\n",
      "1839/1839 [==============================] - 2s 958us/step - loss: 0.8687 - acc: 0.7923 - val_loss: 1.6251 - val_acc: 0.5261\n",
      "Epoch 47/50\n",
      "1839/1839 [==============================] - 2s 948us/step - loss: 0.8633 - acc: 0.7912 - val_loss: 1.6990 - val_acc: 0.5283\n",
      "Epoch 48/50\n",
      "1839/1839 [==============================] - 2s 943us/step - loss: 0.8561 - acc: 0.7993 - val_loss: 1.7166 - val_acc: 0.5130\n",
      "Epoch 49/50\n",
      "1839/1839 [==============================] - 2s 948us/step - loss: 0.8548 - acc: 0.8048 - val_loss: 1.6191 - val_acc: 0.5065\n",
      "Epoch 50/50\n",
      "1839/1839 [==============================] - 2s 932us/step - loss: 0.8253 - acc: 0.8053 - val_loss: 1.6390 - val_acc: 0.5239\n"
     ]
    }
   ],
   "source": [
    "model.compile(optimizer='rmsprop', loss='categorical_crossentropy',metrics=[\"acc\"])\n",
    "\n",
    "history = model.fit(X_train, y_train, epochs = 50, batch_size = 128, validation_split = 0.2)"
   ]
  },
  {
   "cell_type": "code",
   "execution_count": 32,
   "metadata": {},
   "outputs": [
    {
     "name": "stdout",
     "output_type": "stream",
     "text": [
      "767/767 [==============================] - 0s 476us/step\n",
      "evaluate on test set  [1.5625690845031937, 0.5554106914701797]\n"
     ]
    }
   ],
   "source": [
    "results = model.evaluate(X_test, y_test)\n",
    "print(\"evaluate on test set \",results)"
   ]
  },
  {
   "cell_type": "code",
   "execution_count": 33,
   "metadata": {},
   "outputs": [
    {
     "name": "stdout",
     "output_type": "stream",
     "text": [
      "2299/2299 [==============================] - 1s 537us/step\n",
      "evaluate on train set  [0.980287826802742, 0.7529360589487442]\n"
     ]
    }
   ],
   "source": [
    "results = model.evaluate(X_train, y_train)\n",
    "print(\"evaluate on train set \",results)"
   ]
  },
  {
   "cell_type": "code",
   "execution_count": 34,
   "metadata": {},
   "outputs": [],
   "source": [
    "y_pred = model.predict(X_test)\n",
    "\n",
    "pr, rc, fs,_ = precision_recall_fscore_support(np.argmax(y_test.values,axis = 1), np.argmax(y_pred,axis = 1), average='micro')"
   ]
  },
  {
   "cell_type": "code",
   "execution_count": 35,
   "metadata": {},
   "outputs": [
    {
     "name": "stdout",
     "output_type": "stream",
     "text": [
      "precision is 55.54106910039114%, recall is 55.54106910039114% and f1 score is 55.54106910039114%\n"
     ]
    }
   ],
   "source": [
    "print(\"precision is {}%, recall is {}% and f1 score is {}%\".format(pr*100, rc*100, fs*100))"
   ]
  },
  {
   "cell_type": "markdown",
   "metadata": {},
   "source": [
    "## Tester sans embedding pré-entrainé"
   ]
  },
  {
   "cell_type": "code",
   "execution_count": 36,
   "metadata": {
    "scrolled": true
   },
   "outputs": [
    {
     "name": "stdout",
     "output_type": "stream",
     "text": [
      "_________________________________________________________________\n",
      "Layer (type)                 Output Shape              Param #   \n",
      "=================================================================\n",
      "embedding_2 (Embedding)      (None, 2500, 200)         10000000  \n",
      "_________________________________________________________________\n",
      "flatten_2 (Flatten)          (None, 500000)            0         \n",
      "_________________________________________________________________\n",
      "dense_3 (Dense)              (None, 20)                10000020  \n",
      "_________________________________________________________________\n",
      "dense_4 (Dense)              (None, 20)                420       \n",
      "=================================================================\n",
      "Total params: 20,000,440\n",
      "Trainable params: 20,000,440\n",
      "Non-trainable params: 0\n",
      "_________________________________________________________________\n",
      "Train on 1839 samples, validate on 460 samples\n",
      "Epoch 1/50\n",
      "1839/1839 [==============================] - 3s 2ms/step - loss: 2.0173 - acc: 0.5030 - val_loss: 1.8164 - val_acc: 0.5761\n",
      "Epoch 2/50\n",
      "1839/1839 [==============================] - 2s 1ms/step - loss: 1.5127 - acc: 0.7270 - val_loss: 1.5178 - val_acc: 0.6957\n",
      "Epoch 3/50\n",
      "1839/1839 [==============================] - 2s 1ms/step - loss: 1.2208 - acc: 0.7787 - val_loss: 1.4553 - val_acc: 0.6826\n",
      "Epoch 4/50\n",
      "1839/1839 [==============================] - 2s 1ms/step - loss: 1.0153 - acc: 0.8298 - val_loss: 1.3145 - val_acc: 0.7065\n",
      "Epoch 5/50\n",
      "1839/1839 [==============================] - 2s 1ms/step - loss: 0.8268 - acc: 0.8891 - val_loss: 1.2392 - val_acc: 0.7065\n",
      "Epoch 6/50\n",
      "1839/1839 [==============================] - 2s 1ms/step - loss: 0.6630 - acc: 0.9157 - val_loss: 1.2252 - val_acc: 0.7043\n",
      "Epoch 7/50\n",
      "1839/1839 [==============================] - 2s 1ms/step - loss: 0.5480 - acc: 0.9608 - val_loss: 1.1414 - val_acc: 0.7022\n",
      "Epoch 8/50\n",
      "1839/1839 [==============================] - 2s 1ms/step - loss: 0.4722 - acc: 0.9821 - val_loss: 1.1560 - val_acc: 0.7065\n",
      "Epoch 9/50\n",
      "1839/1839 [==============================] - 2s 1ms/step - loss: 0.4167 - acc: 0.9842 - val_loss: 1.1135 - val_acc: 0.7130\n",
      "Epoch 10/50\n",
      "1839/1839 [==============================] - 2s 1ms/step - loss: 0.3739 - acc: 0.9853 - val_loss: 1.1299 - val_acc: 0.7087\n",
      "Epoch 11/50\n",
      "1839/1839 [==============================] - 2s 1ms/step - loss: 0.3395 - acc: 0.9869 - val_loss: 1.1375 - val_acc: 0.7109\n",
      "Epoch 12/50\n",
      "1839/1839 [==============================] - 2s 1ms/step - loss: 0.3104 - acc: 0.9875 - val_loss: 1.1489 - val_acc: 0.7109\n",
      "Epoch 13/50\n",
      "1839/1839 [==============================] - 2s 1ms/step - loss: 0.2853 - acc: 0.9864 - val_loss: 1.1617 - val_acc: 0.7109\n",
      "Epoch 14/50\n",
      "1839/1839 [==============================] - 2s 1ms/step - loss: 0.2636 - acc: 0.9859 - val_loss: 1.2207 - val_acc: 0.7130\n",
      "Epoch 15/50\n",
      "1839/1839 [==============================] - 2s 1ms/step - loss: 0.2445 - acc: 0.9864 - val_loss: 1.2154 - val_acc: 0.7130\n",
      "Epoch 16/50\n",
      "1839/1839 [==============================] - 2s 1ms/step - loss: 0.2270 - acc: 0.9864 - val_loss: 1.2533 - val_acc: 0.7152\n",
      "Epoch 17/50\n",
      "1839/1839 [==============================] - 2s 1ms/step - loss: 0.2113 - acc: 0.9864 - val_loss: 1.2742 - val_acc: 0.7130\n",
      "Epoch 18/50\n",
      "1839/1839 [==============================] - 2s 1ms/step - loss: 0.1971 - acc: 0.9869 - val_loss: 1.2845 - val_acc: 0.7196\n",
      "Epoch 19/50\n",
      "1839/1839 [==============================] - 2s 1ms/step - loss: 0.1841 - acc: 0.9924 - val_loss: 1.2952 - val_acc: 0.7109\n",
      "Epoch 20/50\n",
      "1839/1839 [==============================] - 2s 1ms/step - loss: 0.1724 - acc: 0.9924 - val_loss: 1.3260 - val_acc: 0.7174\n",
      "Epoch 21/50\n",
      "1839/1839 [==============================] - 2s 1ms/step - loss: 0.1613 - acc: 0.9924 - val_loss: 1.3016 - val_acc: 0.7196\n",
      "Epoch 22/50\n",
      "1839/1839 [==============================] - 2s 935us/step - loss: 0.1510 - acc: 0.9924 - val_loss: 1.3368 - val_acc: 0.7174\n",
      "Epoch 23/50\n",
      "1839/1839 [==============================] - 2s 842us/step - loss: 0.1417 - acc: 0.9924 - val_loss: 1.3445 - val_acc: 0.7239\n",
      "Epoch 24/50\n",
      "1839/1839 [==============================] - 2s 1ms/step - loss: 0.1331 - acc: 0.9924 - val_loss: 1.3619 - val_acc: 0.7217\n",
      "Epoch 25/50\n",
      "1839/1839 [==============================] - 1s 573us/step - loss: 0.1249 - acc: 0.9924 - val_loss: 1.3828 - val_acc: 0.7261\n",
      "Epoch 26/50\n",
      "1839/1839 [==============================] - 1s 594us/step - loss: 0.1174 - acc: 0.9924 - val_loss: 1.3899 - val_acc: 0.7239\n",
      "Epoch 27/50\n",
      "1839/1839 [==============================] - 1s 583us/step - loss: 0.1104 - acc: 0.9924 - val_loss: 1.3966 - val_acc: 0.7261\n",
      "Epoch 28/50\n",
      "1839/1839 [==============================] - 1s 585us/step - loss: 0.1038 - acc: 0.9935 - val_loss: 1.4213 - val_acc: 0.7239\n",
      "Epoch 29/50\n",
      "1839/1839 [==============================] - 1s 580us/step - loss: 0.0976 - acc: 0.9978 - val_loss: 1.4387 - val_acc: 0.7261\n",
      "Epoch 30/50\n",
      "1839/1839 [==============================] - 1s 588us/step - loss: 0.0917 - acc: 0.9978 - val_loss: 1.4397 - val_acc: 0.7239\n",
      "Epoch 31/50\n",
      "1839/1839 [==============================] - 2s 1ms/step - loss: 0.0863 - acc: 0.9978 - val_loss: 1.4722 - val_acc: 0.7196\n",
      "Epoch 32/50\n",
      "1839/1839 [==============================] - 2s 1ms/step - loss: 0.0813 - acc: 0.9978 - val_loss: 1.4676 - val_acc: 0.7261\n",
      "Epoch 33/50\n",
      "1839/1839 [==============================] - 2s 1ms/step - loss: 0.0766 - acc: 0.9978 - val_loss: 1.4782 - val_acc: 0.7261\n",
      "Epoch 34/50\n",
      "1839/1839 [==============================] - 2s 1ms/step - loss: 0.0722 - acc: 0.9978 - val_loss: 1.4903 - val_acc: 0.7261\n",
      "Epoch 35/50\n",
      "1839/1839 [==============================] - 2s 1ms/step - loss: 0.0679 - acc: 0.9978 - val_loss: 1.5167 - val_acc: 0.7261\n",
      "Epoch 36/50\n",
      "1839/1839 [==============================] - 2s 1ms/step - loss: 0.0640 - acc: 0.9978 - val_loss: 1.5115 - val_acc: 0.7261\n",
      "Epoch 37/50\n",
      "1839/1839 [==============================] - 2s 1ms/step - loss: 0.0603 - acc: 0.9978 - val_loss: 1.5115 - val_acc: 0.7239\n",
      "Epoch 38/50\n",
      "1839/1839 [==============================] - 2s 1ms/step - loss: 0.0567 - acc: 0.9978 - val_loss: 1.5460 - val_acc: 0.7261\n",
      "Epoch 39/50\n",
      "1839/1839 [==============================] - 2s 1ms/step - loss: 0.0534 - acc: 0.9978 - val_loss: 1.5857 - val_acc: 0.7261\n",
      "Epoch 40/50\n",
      "1839/1839 [==============================] - 2s 1ms/step - loss: 0.0504 - acc: 0.9978 - val_loss: 1.5508 - val_acc: 0.7239\n",
      "Epoch 41/50\n",
      "1839/1839 [==============================] - 2s 1ms/step - loss: 0.0475 - acc: 0.9978 - val_loss: 1.6059 - val_acc: 0.7196\n",
      "Epoch 42/50\n",
      "1839/1839 [==============================] - 2s 1ms/step - loss: 0.0448 - acc: 0.9978 - val_loss: 1.5935 - val_acc: 0.7217\n",
      "Epoch 43/50\n",
      "1839/1839 [==============================] - 2s 1ms/step - loss: 0.0423 - acc: 0.9978 - val_loss: 1.6257 - val_acc: 0.7174\n",
      "Epoch 44/50\n",
      "1839/1839 [==============================] - 2s 1ms/step - loss: 0.0400 - acc: 1.0000 - val_loss: 1.6355 - val_acc: 0.7196\n",
      "Epoch 45/50\n",
      "1839/1839 [==============================] - 2s 1ms/step - loss: 0.0377 - acc: 1.0000 - val_loss: 1.6097 - val_acc: 0.7217\n",
      "Epoch 46/50\n",
      "1839/1839 [==============================] - 2s 1ms/step - loss: 0.0356 - acc: 1.0000 - val_loss: 1.6561 - val_acc: 0.7196\n",
      "Epoch 47/50\n",
      "1839/1839 [==============================] - 2s 1ms/step - loss: 0.0337 - acc: 1.0000 - val_loss: 1.6647 - val_acc: 0.7196\n",
      "Epoch 48/50\n",
      "1839/1839 [==============================] - 2s 1ms/step - loss: 0.0318 - acc: 1.0000 - val_loss: 1.6794 - val_acc: 0.7196\n",
      "Epoch 49/50\n",
      "1839/1839 [==============================] - 2s 1ms/step - loss: 0.0300 - acc: 1.0000 - val_loss: 1.7056 - val_acc: 0.7152\n",
      "Epoch 50/50\n",
      "1839/1839 [==============================] - 2s 1ms/step - loss: 0.0284 - acc: 1.0000 - val_loss: 1.7796 - val_acc: 0.7152\n"
     ]
    }
   ],
   "source": [
    "# definir le modele \n",
    "model = Sequential()\n",
    "model.add(Embedding(max_words,embedding_dim, input_length = maxlen))\n",
    "model.add(Flatten())\n",
    "model.add(Dense(20, activation=\"sigmoid\"))\n",
    "\n",
    "\"\"\"\n",
    "Changer len(classes) par len(classesP) si vous voulez tester le modele sur les periodes\n",
    "\"\"\"\n",
    "model.add(Dense(len(classes), activation='softmax'))\n",
    "model.summary()\n",
    "\n",
    "model.compile(optimizer='rmsprop', loss='categorical_crossentropy',metrics=[\"acc\"])\n",
    "\n",
    "history = model.fit(X_train, y_train, epochs = 50, batch_size = 128, validation_split = 0.2)\n",
    "\n",
    "y_pred = model.predict(X_test)\n",
    "\n",
    "pr, rc, fs,_ = precision_recall_fscore_support(np.argmax(y_test.values,axis = 1), np.argmax(y_pred,axis = 1), average='micro')"
   ]
  },
  {
   "cell_type": "code",
   "execution_count": 37,
   "metadata": {},
   "outputs": [
    {
     "name": "stdout",
     "output_type": "stream",
     "text": [
      "precision is 73.79400260756192%, recall is 73.79400260756192% and f1 score is 73.79400260756194%\n"
     ]
    }
   ],
   "source": [
    "print(\"precision is {}%, recall is {}% and f1 score is {}%\".format(pr*100, rc*100, fs*100))"
   ]
  }
 ],
 "metadata": {
  "kernelspec": {
   "display_name": "Python 3",
   "language": "python",
   "name": "python3"
  },
  "language_info": {
   "codemirror_mode": {
    "name": "ipython",
    "version": 3
   },
   "file_extension": ".py",
   "mimetype": "text/x-python",
   "name": "python",
   "nbconvert_exporter": "python",
   "pygments_lexer": "ipython3",
   "version": "3.6.0"
  }
 },
 "nbformat": 4,
 "nbformat_minor": 2
}
