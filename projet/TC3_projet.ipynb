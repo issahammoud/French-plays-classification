{
 "cells": [
  {
   "cell_type": "markdown",
   "metadata": {},
   "source": [
    "<div class = \"alert alert-info>\n",
    "              <h2>Imports</h2>\n",
    "              </div>"
   ]
  },
  {
   "cell_type": "markdown",
   "metadata": {},
   "source": [
    "<div class = \"alert alert-info\">\n",
    "      <h2>Imports</h2>\n",
    "                  </div>"
   ]
  },
  {
   "cell_type": "code",
   "execution_count": 26,
   "metadata": {},
   "outputs": [],
   "source": [
    "import os\n",
    "import re\n",
    "import numpy as np\n",
    "from collections import Counter\n",
    "import pandas as pd\n",
    "import seaborn as sns\n",
    "import matplotlib.pyplot as plt "
   ]
  },
  {
   "cell_type": "markdown",
   "metadata": {},
   "source": [
    "<div class = \"alert alert-info\">\n",
    "    <h2>Prétraitement</h2>\n",
    "    <h3>Extraction du genre, division des oeuvres par actes et nettoyage des balises</h3>\n",
    "                  </div>"
   ]
  },
  {
   "cell_type": "code",
   "execution_count": 27,
   "metadata": {},
   "outputs": [
    {
     "data": {
      "text/plain": [
       "(3156, 3156)"
      ]
     },
     "execution_count": 27,
     "metadata": {},
     "output_type": "execute_result"
    }
   ],
   "source": [
    "liste = os.listdir(\"corpus/theatreClassique/XML/\")\n",
    "\n",
    "y = []\n",
    "X = []\n",
    "\n",
    "for texte in liste:\n",
    "    \n",
    "    try:\n",
    "\n",
    "        f = open(\"corpus/theatreClassique/XML/\"+texte,'r',encoding=\"utf-8\")\n",
    "        contenu = f.read()\n",
    "        \n",
    "    except UnicodeDecodeError:\n",
    "        \n",
    "        f = open(\"corpus/theatreClassique/XML/\"+texte,'r',encoding=\"latin-1\")\n",
    "        contenu = f.read()\n",
    "    \n",
    "\n",
    "    acts = re.findall('<div1 .*?>(.*?)</div1>',contenu,flags=re.DOTALL)\n",
    "\n",
    "    y += re.findall('<genre>(.*?)</genre>',contenu)*len(acts)\n",
    "\n",
    "    for i in range(len(acts)):\n",
    "\n",
    "        X.append(re.sub('<.*?>', ' ', acts[i]))\n",
    "        \n",
    "    f.close()\n",
    "\n",
    "len(X),len(y)"
   ]
  },
  {
   "cell_type": "markdown",
   "metadata": {},
   "source": [
    "<div class = \"alert alert-info\">\n",
    "      <h2>Choix des données relevantes et suppression des duplications</h2>\n",
    "                  </div>"
   ]
  },
  {
   "cell_type": "code",
   "execution_count": 28,
   "metadata": {},
   "outputs": [
    {
     "name": "stdout",
     "output_type": "stream",
     "text": [
      "we have 20 classes that exist at least 10 times, these classes are:\n"
     ]
    },
    {
     "data": {
      "text/plain": [
       "['Tragédie',\n",
       " 'Comédie',\n",
       " 'Tragi-comédie',\n",
       " 'Opéra',\n",
       " 'Drame',\n",
       " 'Proverbe',\n",
       " 'Pastorale',\n",
       " 'Comédie héroïque',\n",
       " 'Monologue',\n",
       " 'Tragédie en musique',\n",
       " 'Farce',\n",
       " 'opuscule dramatique',\n",
       " 'Comédie-ballet',\n",
       " 'Opéra comique',\n",
       " 'Parodie',\n",
       " 'Pastorale héroïque',\n",
       " 'Tragédie lyrique',\n",
       " 'Comédie galante',\n",
       " 'Ballet',\n",
       " 'Divertissement']"
      ]
     },
     "execution_count": 28,
     "metadata": {},
     "output_type": "execute_result"
    }
   ],
   "source": [
    "classes = [x[0] for x in Counter(y).most_common() if x[1] >= 10]\n",
    "print(\"we have {} classes that exist at least 10 times, these classes are:\".format(len(classes)))\n",
    "classes"
   ]
  },
  {
   "cell_type": "code",
   "execution_count": 29,
   "metadata": {},
   "outputs": [
    {
     "data": {
      "text/plain": [
       "[('Tragédie', 1190),\n",
       " ('Comédie', 1096),\n",
       " ('Tragi-comédie', 348),\n",
       " ('Opéra', 70),\n",
       " ('Drame', 65),\n",
       " ('Proverbe', 43),\n",
       " ('Pastorale', 28),\n",
       " ('Comédie héroïque', 27),\n",
       " ('Monologue', 24),\n",
       " ('Tragédie en musique', 23),\n",
       " ('Farce', 19),\n",
       " ('opuscule dramatique', 19),\n",
       " ('Comédie-ballet', 19),\n",
       " ('Opéra comique', 17),\n",
       " ('Parodie', 17),\n",
       " ('Pastorale héroïque', 15),\n",
       " ('Tragédie lyrique', 14),\n",
       " ('Comédie galante', 11),\n",
       " ('Ballet', 11),\n",
       " ('Divertissement', 10)]"
      ]
     },
     "execution_count": 29,
     "metadata": {},
     "output_type": "execute_result"
    }
   ],
   "source": [
    "most_common = Counter(y).most_common(len(classes))\n",
    "most_common"
   ]
  },
  {
   "cell_type": "code",
   "execution_count": 30,
   "metadata": {},
   "outputs": [
    {
     "name": "stdout",
     "output_type": "stream",
     "text": [
      "The overall dataset now is about 3066 acts\n",
      "the mean number of words (including punctuations) in an act is 21188.579531051964\n"
     ]
    }
   ],
   "source": [
    "nbre_acts = np.sum([x[1] for x in most_common])\n",
    "print(\"The overall dataset now is about {} acts\".format(nbre_acts))\n",
    "print(\"the mean number of words (including punctuations) in an act is {}\".format(np.mean([len(x) for x in X])))"
   ]
  },
  {
   "cell_type": "code",
   "execution_count": 31,
   "metadata": {},
   "outputs": [],
   "source": [
    "df = pd.DataFrame({\"Acts\":np.array(X),\"Labels\":np.array(y)})\n",
    "\n",
    "data = df[df[\"Labels\"].apply(lambda x: x in classes)]"
   ]
  },
  {
   "cell_type": "code",
   "execution_count": 32,
   "metadata": {},
   "outputs": [
    {
     "data": {
      "text/html": [
       "<div>\n",
       "<style scoped>\n",
       "    .dataframe tbody tr th:only-of-type {\n",
       "        vertical-align: middle;\n",
       "    }\n",
       "\n",
       "    .dataframe tbody tr th {\n",
       "        vertical-align: top;\n",
       "    }\n",
       "\n",
       "    .dataframe thead th {\n",
       "        text-align: right;\n",
       "    }\n",
       "</style>\n",
       "<table border=\"1\" class=\"dataframe\">\n",
       "  <thead>\n",
       "    <tr style=\"text-align: right;\">\n",
       "      <th></th>\n",
       "      <th>Acts</th>\n",
       "      <th>Labels</th>\n",
       "    </tr>\n",
       "  </thead>\n",
       "  <tbody>\n",
       "    <tr>\n",
       "      <th>count</th>\n",
       "      <td>3066</td>\n",
       "      <td>3066</td>\n",
       "    </tr>\n",
       "    <tr>\n",
       "      <th>unique</th>\n",
       "      <td>3063</td>\n",
       "      <td>20</td>\n",
       "    </tr>\n",
       "    <tr>\n",
       "      <th>top</th>\n",
       "      <td>\\t\\n  Liste des oeuvres théâtrales de Jean R...</td>\n",
       "      <td>Tragédie</td>\n",
       "    </tr>\n",
       "    <tr>\n",
       "      <th>freq</th>\n",
       "      <td>2</td>\n",
       "      <td>1190</td>\n",
       "    </tr>\n",
       "  </tbody>\n",
       "</table>\n",
       "</div>"
      ],
      "text/plain": [
       "                                                     Acts    Labels\n",
       "count                                                3066      3066\n",
       "unique                                               3063        20\n",
       "top       \\t\\n  Liste des oeuvres théâtrales de Jean R...  Tragédie\n",
       "freq                                                    2      1190"
      ]
     },
     "execution_count": 32,
     "metadata": {},
     "output_type": "execute_result"
    }
   ],
   "source": [
    "data.describe()"
   ]
  },
  {
   "cell_type": "code",
   "execution_count": 33,
   "metadata": {},
   "outputs": [],
   "source": [
    "data = data.drop_duplicates()"
   ]
  },
  {
   "cell_type": "code",
   "execution_count": 34,
   "metadata": {},
   "outputs": [
    {
     "data": {
      "text/html": [
       "<div>\n",
       "<style scoped>\n",
       "    .dataframe tbody tr th:only-of-type {\n",
       "        vertical-align: middle;\n",
       "    }\n",
       "\n",
       "    .dataframe tbody tr th {\n",
       "        vertical-align: top;\n",
       "    }\n",
       "\n",
       "    .dataframe thead th {\n",
       "        text-align: right;\n",
       "    }\n",
       "</style>\n",
       "<table border=\"1\" class=\"dataframe\">\n",
       "  <thead>\n",
       "    <tr style=\"text-align: right;\">\n",
       "      <th></th>\n",
       "      <th>Acts</th>\n",
       "      <th>Labels</th>\n",
       "    </tr>\n",
       "  </thead>\n",
       "  <tbody>\n",
       "    <tr>\n",
       "      <th>count</th>\n",
       "      <td>3063</td>\n",
       "      <td>3063</td>\n",
       "    </tr>\n",
       "    <tr>\n",
       "      <th>unique</th>\n",
       "      <td>3063</td>\n",
       "      <td>20</td>\n",
       "    </tr>\n",
       "    <tr>\n",
       "      <th>top</th>\n",
       "      <td>ACTE II \\n  SCÈNE PREMIÈRE. ABRÉGÉ DE COMÉDIE...</td>\n",
       "      <td>Tragédie</td>\n",
       "    </tr>\n",
       "    <tr>\n",
       "      <th>freq</th>\n",
       "      <td>1</td>\n",
       "      <td>1187</td>\n",
       "    </tr>\n",
       "  </tbody>\n",
       "</table>\n",
       "</div>"
      ],
      "text/plain": [
       "                                                     Acts    Labels\n",
       "count                                                3063      3063\n",
       "unique                                               3063        20\n",
       "top      ACTE II \\n  SCÈNE PREMIÈRE. ABRÉGÉ DE COMÉDIE...  Tragédie\n",
       "freq                                                    1      1187"
      ]
     },
     "execution_count": 34,
     "metadata": {},
     "output_type": "execute_result"
    }
   ],
   "source": [
    "data.describe()"
   ]
  },
  {
   "cell_type": "code",
   "execution_count": 39,
   "metadata": {},
   "outputs": [],
   "source": [
    "data[\"Labels\"] = pd.Categorical(data[\"Labels\"])\n",
    "\n",
    "data[\"LabelsNum\"] = data[\"Labels\"].cat.codes"
   ]
  },
  {
   "cell_type": "markdown",
   "metadata": {},
   "source": [
    "<div class = \"alert alert-info\">\n",
    "      <h2>Préparation à l'entrainement - distribution identique par classe </h2>\n",
    "                  </div>"
   ]
  },
  {
   "cell_type": "code",
   "execution_count": 36,
   "metadata": {},
   "outputs": [],
   "source": [
    "from sklearn.model_selection import StratifiedShuffleSplit\n",
    "\n",
    "sss = StratifiedShuffleSplit(test_size = 0.25)\n",
    "\n",
    "acts = data[\"Acts\"].values\n",
    "labels = data[\"LabelsNum\"].values\n",
    "\n",
    "for train_index, test_index in sss.split(acts,labels):\n",
    "    \n",
    "    X_train, X_test = acts[train_index], acts[test_index]\n",
    "    y_train, y_test = labels[train_index], labels[test_index]"
   ]
  },
  {
   "cell_type": "code",
   "execution_count": 37,
   "metadata": {},
   "outputs": [
    {
     "data": {
      "text/plain": [
       "((2297,), (766,))"
      ]
     },
     "execution_count": 37,
     "metadata": {},
     "output_type": "execute_result"
    }
   ],
   "source": [
    "X_train.shape,X_test.shape"
   ]
  },
  {
   "cell_type": "code",
   "execution_count": 38,
   "metadata": {},
   "outputs": [
    {
     "data": {
      "image/png": "[encoded data removed]",
      "text/plain": [
       "<Figure size 1440x576 with 2 Axes>"
      ]
     },
     "metadata": {},
     "output_type": "display_data"
    }
   ],
   "source": [
    "sns.set()\n",
    "plt.figure(figsize=(20,8))\n",
    "plt.subplot(121)\n",
    "plt.title(\"Classes' distribution in training set\",fontsize = 16)\n",
    "pd.Series(y_train).value_counts().plot(kind='bar')\n",
    "\n",
    "plt.subplot(122)\n",
    "plt.title(\"Classes' distribution in testing set\",fontsize = 16)\n",
    "pd.Series(y_test).value_counts().plot(kind='bar')\n",
    "\n",
    "plt.show()"
   ]
  },
  {
   "cell_type": "code",
   "execution_count": 42,
   "metadata": {},
   "outputs": [
    {
     "data": {
      "text/plain": [
       "85339"
      ]
     },
     "execution_count": 42,
     "metadata": {},
     "output_type": "execute_result"
    }
   ],
   "source": [
    "np.max([len(x) for x in X_test])"
   ]
  },
  {
   "cell_type": "code",
   "execution_count": null,
   "metadata": {},
   "outputs": [],
   "source": []
  }
 ],
 "metadata": {
  "kernelspec": {
   "display_name": "Python 3",
   "language": "python",
   "name": "python3"
  },
  "language_info": {
   "codemirror_mode": {
    "name": "ipython",
    "version": 3
   },
   "file_extension": ".py",
   "mimetype": "text/x-python",
   "name": "python",
   "nbconvert_exporter": "python",
   "pygments_lexer": "ipython3",
   "version": "3.6.6"
  }
 },
 "nbformat": 4,
 "nbformat_minor": 2
}
