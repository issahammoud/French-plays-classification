{
 "cells": [
  {
   "cell_type": "markdown",
   "metadata": {},
   "source": [
    "<div class = \"alert alert-info>\n",
    "              <h2>Imports</h2>\n",
    "              </div>"
   ]
  },
  {
   "cell_type": "markdown",
   "metadata": {},
   "source": [
    "<div class = \"alert alert-info\">\n",
    "      <h2>Imports</h2>\n",
    "                  </div>"
   ]
  },
  {
   "cell_type": "code",
   "execution_count": 1,
   "metadata": {},
   "outputs": [
    {
     "name": "stderr",
     "output_type": "stream",
     "text": [
      "Using TensorFlow backend.\n"
     ]
    }
   ],
   "source": [
    "import os\n",
    "import re\n",
    "import numpy as np\n",
    "from collections import Counter\n",
    "import pandas as pd\n",
    "import seaborn as sns\n",
    "import matplotlib.pyplot as plt \n",
    "import nltk\n",
    "from keras.preprocessing.text import Tokenizer\n",
    "from keras.preprocessing.sequence import pad_sequences\n",
    "from  keras.layers  import Embedding\n",
    "from keras.models import Sequential\n",
    "from keras.layers import Flatten, Dense\n",
    "from keras import layers\n",
    "from keras import preprocessing"
   ]
  },
  {
   "cell_type": "markdown",
   "metadata": {},
   "source": [
    "<div class = \"alert alert-info\">\n",
    "    <h2>Prétraitement</h2>\n",
    "    <h3>Extraction du genre, division des oeuvres par actes, nettoyage des balises et suppression des mots vides</h3>\n",
    "                  </div>"
   ]
  },
  {
   "cell_type": "code",
   "execution_count": 46,
   "metadata": {},
   "outputs": [
    {
     "data": {
      "text/plain": [
       "(3156, 3156)"
      ]
     },
     "execution_count": 46,
     "metadata": {},
     "output_type": "execute_result"
    }
   ],
   "source": [
    "path = \"corpus/theatreClassique/XML/\"\n",
    "liste = os.listdir(path)\n",
    "stop_words = nltk.corpus.stopwords.words(\"french\")\n",
    "y = []\n",
    "X = []\n",
    "\n",
    "for texte in liste:\n",
    "    \n",
    "    try:\n",
    "\n",
    "        f = open(path+texte,'r',encoding=\"utf-8\")\n",
    "        contenu = f.read()\n",
    "        \n",
    "    except UnicodeDecodeError:\n",
    "        \n",
    "        f = open(path+texte,'r',encoding=\"latin-1\")\n",
    "        contenu = f.read()\n",
    "    \n",
    "    contenu = re.sub(\"(\\n\\t*\\s*)\", \"\\n \", contenu)\n",
    "    \n",
    "    contenu = re.sub(r'\\b(' + r'|'.join(stop_words) + r')\\b\\s*','', contenu)\n",
    "\n",
    "    acts = re.findall('<div1 .*?>(.*?)</div1>',contenu,flags=re.DOTALL)\n",
    "\n",
    "    y += re.findall('<genre>(.*?)</genre>',contenu)*len(acts)\n",
    "\n",
    "    for i in range(len(acts)):\n",
    "\n",
    "        X.append(re.sub('<.*?>', ' ', acts[i]))\n",
    "        \n",
    "    f.close()\n",
    "\n",
    "len(X),len(y)"
   ]
  },
  {
   "cell_type": "markdown",
   "metadata": {},
   "source": [
    "<div class = \"alert alert-info\">\n",
    "      <h2>Choix des données relevantes et suppression des duplications</h2>\n",
    "                  </div>"
   ]
  },
  {
   "cell_type": "code",
   "execution_count": 47,
   "metadata": {},
   "outputs": [
    {
     "name": "stdout",
     "output_type": "stream",
     "text": [
      "we have 20 classes that exist at least 10 times, these classes are:\n"
     ]
    },
    {
     "data": {
      "text/plain": [
       "['Tragédie',\n",
       " 'Comédie',\n",
       " 'Tragi-comédie',\n",
       " 'Opéra',\n",
       " 'Drame',\n",
       " 'Proverbe',\n",
       " 'Pastorale',\n",
       " 'Comédie héroïque',\n",
       " 'Monologue',\n",
       " 'Tragédie musique',\n",
       " 'Farce',\n",
       " 'opuscule dramatique',\n",
       " 'Comédie-ballet',\n",
       " 'Opéra comique',\n",
       " 'Parodie',\n",
       " 'Pastorale héroïque',\n",
       " 'Tragédie lyrique',\n",
       " 'Comédie galante',\n",
       " 'Ballet',\n",
       " 'Divertissement']"
      ]
     },
     "execution_count": 47,
     "metadata": {},
     "output_type": "execute_result"
    }
   ],
   "source": [
    "classes = [x[0] for x in Counter(y).most_common() if x[1] >= 10]\n",
    "print(\"we have {} classes that exist at least 10 times, these classes are:\".format(len(classes)))\n",
    "classes"
   ]
  },
  {
   "cell_type": "code",
   "execution_count": 48,
   "metadata": {},
   "outputs": [
    {
     "data": {
      "text/plain": [
       "[('Tragédie', 1190),\n",
       " ('Comédie', 1096),\n",
       " ('Tragi-comédie', 348),\n",
       " ('Opéra', 70),\n",
       " ('Drame', 65),\n",
       " ('Proverbe', 43),\n",
       " ('Pastorale', 28),\n",
       " ('Comédie héroïque', 27),\n",
       " ('Monologue', 24),\n",
       " ('Tragédie musique', 23),\n",
       " ('Farce', 19),\n",
       " ('opuscule dramatique', 19),\n",
       " ('Comédie-ballet', 19),\n",
       " ('Opéra comique', 17),\n",
       " ('Parodie', 17),\n",
       " ('Pastorale héroïque', 15),\n",
       " ('Tragédie lyrique', 14),\n",
       " ('Comédie galante', 11),\n",
       " ('Ballet', 11),\n",
       " ('Divertissement', 10)]"
      ]
     },
     "execution_count": 48,
     "metadata": {},
     "output_type": "execute_result"
    }
   ],
   "source": [
    "most_common = Counter(y).most_common(len(classes))\n",
    "most_common"
   ]
  },
  {
   "cell_type": "code",
   "execution_count": 58,
   "metadata": {},
   "outputs": [
    {
     "name": "stdout",
     "output_type": "stream",
     "text": [
      "The overall dataset now is about 3066 acts\n",
      "the mean number of words (including punctuations) in an act is 2895.78010139417\n",
      "the max number of words (including punctuations) in an act is 20030\n",
      "the min number of words (including punctuations) in an act is 75\n"
     ]
    }
   ],
   "source": [
    "nbre_acts = np.sum([x[1] for x in most_common])\n",
    "\n",
    "maxlen = np.max([len(x.split(\" \")) - np.sum(np.array(x.split(\" \")) == \"\") for x in X])\n",
    "minlen = np.min([len(x.split(\" \")) - np.sum(np.array(x.split(\" \")) == \"\") for x in X])\n",
    "meanlen = np.mean([len(x.split(\" \")) - np.sum(np.array(x.split(\" \")) == \"\") for x in X])\n",
    "\n",
    "print(\"The overall dataset now is about {} acts\".format(nbre_acts))\n",
    "print(\"the mean number of words (including punctuations) in an act is {}\".format(meanlen))\n",
    "print(\"the max number of words (including punctuations) in an act is {}\".format(maxlen))\n",
    "print(\"the min number of words (including punctuations) in an act is {}\".format(minlen))"
   ]
  },
  {
   "cell_type": "code",
   "execution_count": 50,
   "metadata": {},
   "outputs": [],
   "source": [
    "df = pd.DataFrame({\"Acts\":np.array(X),\"Labels\":np.array(y)})\n",
    "\n",
    "data = df[df[\"Labels\"].apply(lambda x: x in classes)]"
   ]
  },
  {
   "cell_type": "code",
   "execution_count": 51,
   "metadata": {},
   "outputs": [
    {
     "data": {
      "text/html": [
       "<div>\n",
       "<style scoped>\n",
       "    .dataframe tbody tr th:only-of-type {\n",
       "        vertical-align: middle;\n",
       "    }\n",
       "\n",
       "    .dataframe tbody tr th {\n",
       "        vertical-align: top;\n",
       "    }\n",
       "\n",
       "    .dataframe thead th {\n",
       "        text-align: right;\n",
       "    }\n",
       "</style>\n",
       "<table border=\"1\" class=\"dataframe\">\n",
       "  <thead>\n",
       "    <tr style=\"text-align: right;\">\n",
       "      <th></th>\n",
       "      <th>Acts</th>\n",
       "      <th>Labels</th>\n",
       "    </tr>\n",
       "  </thead>\n",
       "  <tbody>\n",
       "    <tr>\n",
       "      <th>count</th>\n",
       "      <td>3066</td>\n",
       "      <td>3066</td>\n",
       "    </tr>\n",
       "    <tr>\n",
       "      <th>unique</th>\n",
       "      <td>3060</td>\n",
       "      <td>20</td>\n",
       "    </tr>\n",
       "    <tr>\n",
       "      <th>top</th>\n",
       "      <td>ANNEXES \\t\\n   Liste oeuvres théâtrales Jean ...</td>\n",
       "      <td>Tragédie</td>\n",
       "    </tr>\n",
       "    <tr>\n",
       "      <th>freq</th>\n",
       "      <td>4</td>\n",
       "      <td>1190</td>\n",
       "    </tr>\n",
       "  </tbody>\n",
       "</table>\n",
       "</div>"
      ],
      "text/plain": [
       "                                                     Acts    Labels\n",
       "count                                                3066      3066\n",
       "unique                                               3060        20\n",
       "top      ANNEXES \\t\\n   Liste oeuvres théâtrales Jean ...  Tragédie\n",
       "freq                                                    4      1190"
      ]
     },
     "execution_count": 51,
     "metadata": {},
     "output_type": "execute_result"
    }
   ],
   "source": [
    "data.describe()"
   ]
  },
  {
   "cell_type": "code",
   "execution_count": 52,
   "metadata": {},
   "outputs": [],
   "source": [
    "data = data.drop_duplicates()"
   ]
  },
  {
   "cell_type": "code",
   "execution_count": 53,
   "metadata": {},
   "outputs": [
    {
     "data": {
      "text/html": [
       "<div>\n",
       "<style scoped>\n",
       "    .dataframe tbody tr th:only-of-type {\n",
       "        vertical-align: middle;\n",
       "    }\n",
       "\n",
       "    .dataframe tbody tr th {\n",
       "        vertical-align: top;\n",
       "    }\n",
       "\n",
       "    .dataframe thead th {\n",
       "        text-align: right;\n",
       "    }\n",
       "</style>\n",
       "<table border=\"1\" class=\"dataframe\">\n",
       "  <thead>\n",
       "    <tr style=\"text-align: right;\">\n",
       "      <th></th>\n",
       "      <th>Acts</th>\n",
       "      <th>Labels</th>\n",
       "    </tr>\n",
       "  </thead>\n",
       "  <tbody>\n",
       "    <tr>\n",
       "      <th>count</th>\n",
       "      <td>3060</td>\n",
       "      <td>3060</td>\n",
       "    </tr>\n",
       "    <tr>\n",
       "      <th>unique</th>\n",
       "      <td>3060</td>\n",
       "      <td>20</td>\n",
       "    </tr>\n",
       "    <tr>\n",
       "      <th>top</th>\n",
       "      <td>\\n   SCÈNE I. \\n   MERLIN, seul. \\n  Charonn...</td>\n",
       "      <td>Tragédie</td>\n",
       "    </tr>\n",
       "    <tr>\n",
       "      <th>freq</th>\n",
       "      <td>1</td>\n",
       "      <td>1184</td>\n",
       "    </tr>\n",
       "  </tbody>\n",
       "</table>\n",
       "</div>"
      ],
      "text/plain": [
       "                                                     Acts    Labels\n",
       "count                                                3060      3060\n",
       "unique                                               3060        20\n",
       "top       \\n   SCÈNE I. \\n   MERLIN, seul. \\n  Charonn...  Tragédie\n",
       "freq                                                    1      1184"
      ]
     },
     "execution_count": 53,
     "metadata": {},
     "output_type": "execute_result"
    }
   ],
   "source": [
    "data.describe()"
   ]
  },
  {
   "cell_type": "code",
   "execution_count": 54,
   "metadata": {},
   "outputs": [],
   "source": [
    "data[\"Labels\"] = pd.Categorical(data[\"Labels\"])\n",
    "\n",
    "data[\"LabelsNum\"] = data[\"Labels\"].cat.codes"
   ]
  },
  {
   "cell_type": "markdown",
   "metadata": {},
   "source": [
    "<div class = \"alert alert-info\">\n",
    "      <h2>Préparation à l'entrainement - distribution identique par classe </h2>\n",
    "                  </div>"
   ]
  },
  {
   "cell_type": "code",
   "execution_count": 55,
   "metadata": {},
   "outputs": [],
   "source": [
    "from sklearn.model_selection import StratifiedShuffleSplit\n",
    "\n",
    "sss = StratifiedShuffleSplit(test_size = 0.25)\n",
    "\n",
    "acts = data[\"Acts\"].values\n",
    "labels = data[\"LabelsNum\"].values\n",
    "\n",
    "for train_index, test_index in sss.split(acts,labels):\n",
    "    \n",
    "    X_train, X_test = acts[train_index], acts[test_index]\n",
    "    y_train, y_test = labels[train_index], labels[test_index]"
   ]
  },
  {
   "cell_type": "code",
   "execution_count": 56,
   "metadata": {},
   "outputs": [
    {
     "data": {
      "text/plain": [
       "((2295,), (765,))"
      ]
     },
     "execution_count": 56,
     "metadata": {},
     "output_type": "execute_result"
    }
   ],
   "source": [
    "X_train.shape,X_test.shape"
   ]
  },
  {
   "cell_type": "code",
   "execution_count": 57,
   "metadata": {},
   "outputs": [
    {
     "data": {
      "image/png": "[encoded data removed]",
      "text/plain": [
       "<Figure size 1440x576 with 2 Axes>"
      ]
     },
     "metadata": {},
     "output_type": "display_data"
    }
   ],
   "source": [
    "sns.set()\n",
    "plt.figure(figsize=(20,8))\n",
    "plt.subplot(121)\n",
    "plt.title(\"Classes' distribution in training set\",fontsize = 16)\n",
    "pd.Series(y_train).value_counts().plot(kind='bar')\n",
    "\n",
    "plt.subplot(122)\n",
    "plt.title(\"Classes' distribution in testing set\",fontsize = 16)\n",
    "pd.Series(y_test).value_counts().plot(kind='bar')\n",
    "\n",
    "plt.show()"
   ]
  },
  {
   "cell_type": "markdown",
   "metadata": {},
   "source": [
    "<div class=\"alert alert-info\">\n",
    "    <h2>Word Embedding</h2>\n",
    "    </div>"
   ]
  },
  {
   "cell_type": "code",
   "execution_count": null,
   "metadata": {},
   "outputs": [],
   "source": [
    "maxlen = 99654  # We will cut reviews after 100 words\n",
    "training_samples = len(y_train)  # We will be training on 200 samples\n",
    "validation_samples = len(y_test)  # We will be validating on 10000 samples\n",
    "#max_words = 10000  # We will only consider the top 10,000 words in the dataset\n",
    "texts=X_train\n",
    "tokenizer = Tokenizer()\n",
    "tokenizer.fit_on_texts(texts)\n",
    "sequences = tokenizer.texts_to_sequences(texts)"
   ]
  },
  {
   "cell_type": "code",
   "execution_count": null,
   "metadata": {},
   "outputs": [],
   "source": [
    "word_index = tokenizer.word_index\n",
    "print('Found %s unique tokens.' % len(word_index))\n",
    "\n",
    "data = pad_sequences(sequences, maxlen=maxlen)\n",
    "\n",
    "labels = np.asarray(labels)\n",
    "print('Shape of data tensor:', data.shape)\n",
    "print('Shape of label tensor:', labels.shape)\n",
    "\n",
    "x_train = data[: training_samples]\n",
    "\n",
    "# Split the data into a training set and a validation set\n",
    "# But first, shuffle the data, since we started from data\n",
    "# where sample are ordered (all negative first, then all positive).\n",
    "#x_test = data[training_samples: training_samples + validation_samples]\n",
    "#y_test = labels[training_samples: training_samples + validation_samples]"
   ]
  },
  {
   "cell_type": "code",
   "execution_count": null,
   "metadata": {},
   "outputs": [],
   "source": [
    "x_train = preprocessing.sequence.pad_sequences(x_train, maxlen=maxlen)\n"
   ]
  },
  {
   "cell_type": "code",
   "execution_count": null,
   "metadata": {},
   "outputs": [],
   "source": [
    "y_train=pd.get_dummies(y_train)"
   ]
  },
  {
   "cell_type": "code",
   "execution_count": null,
   "metadata": {},
   "outputs": [],
   "source": [
    "model = Sequential()\n",
    "# We specify the maximum input length to our Embedding layer\n",
    "# so we can later flatten the embedded inputs\n",
    "model.add(Embedding(94517, 64, input_length=maxlen))\n",
    "# After the Embedding layer, \n",
    "# our activations have shape `(samples, maxlen, 8)`.\n",
    "\n",
    "# We flatten the 3D tensor of embeddings \n",
    "# into a 2D tensor of shape `(samples, maxlen * 8)`\n",
    "model.add(Flatten())\n",
    "#model.add(layers.Dense(100,activation='relu'))\n",
    "\n",
    "# We add the classifier on top\n",
    "model.add(Dense(20, activation='sigmoid'))\n",
    "model.compile(optimizer='rmsprop', loss='categorical_crossentropy', metrics=['acc'])\n",
    "model.summary()\n",
    "\n",
    "history = model.fit(x_train, y_train,\n",
    "                    epochs=5,\n",
    "                    batch_size=32,\n",
    "                    validation_split=0.2)"
   ]
  }
 ],
 "metadata": {
  "kernelspec": {
   "display_name": "Python 3",
   "language": "python",
   "name": "python3"
  },
  "language_info": {
   "codemirror_mode": {
    "name": "ipython",
    "version": 3
   },
   "file_extension": ".py",
   "mimetype": "text/x-python",
   "name": "python",
   "nbconvert_exporter": "python",
   "pygments_lexer": "ipython3",
   "version": "3.6.6"
  }
 },
 "nbformat": 4,
 "nbformat_minor": 2
}
