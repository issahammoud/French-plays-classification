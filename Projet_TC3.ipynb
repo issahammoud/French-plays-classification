{
 "cells": [
  {
   "cell_type": "markdown",
   "metadata": {},
   "source": [
    "<div class = \"alert alert-info>\n",
    "              <h2>Imports</h2>\n",
    "              </div>"
   ]
  },
  {
   "cell_type": "markdown",
   "metadata": {},
   "source": [
    "<div class = \"alert alert-info\">\n",
    "      <h2>Imports</h2>\n",
    "                  </div>"
   ]
  },
  {
   "cell_type": "code",
   "execution_count": 2,
   "metadata": {},
   "outputs": [
    {
     "name": "stderr",
     "output_type": "stream",
     "text": [
      "Using TensorFlow backend.\n"
     ]
    }
   ],
   "source": [
    "import os\n",
    "import re\n",
    "import numpy as np\n",
    "from collections import Counter\n",
    "import pandas as pd\n",
    "import nltk\n",
    "from sklearn.model_selection import StratifiedShuffleSplit\n",
    "from keras.preprocessing.text import Tokenizer\n",
    "from keras.preprocessing.sequence import pad_sequences\n",
    "from  keras.layers  import Embedding\n",
    "from keras.models import Sequential\n",
    "from keras.layers import Flatten, Dense\n",
    "from keras import layers\n",
    "from keras import preprocessing"
   ]
  },
  {
   "cell_type": "markdown",
   "metadata": {},
   "source": [
    "<div class = \"alert alert-info\">\n",
    "    <h2>Prétraitement</h2>\n",
    "    <h3>Extraction du genre, division des oeuvres par actes, nettoyage des balises et suppression des mots vides</h3>\n",
    "                  </div>"
   ]
  },
  {
   "cell_type": "code",
   "execution_count": 63,
   "metadata": {},
   "outputs": [
    {
     "data": {
      "text/plain": [
       "(3156, 3156, 3156)"
      ]
     },
     "execution_count": 63,
     "metadata": {},
     "output_type": "execute_result"
    }
   ],
   "source": [
    "path = \"C:/Users/Salim/Desktop/Master_AIC/TC3/Projet/projet-tc3-master/projet/corpus/theatreClassique/XML/\"\n",
    "liste = os.listdir(path)\n",
    "stop_words = nltk.corpus.stopwords.words(\"french\")\n",
    "y = []\n",
    "X = []\n",
    "periode=[]\n",
    "\n",
    "for texte in liste:\n",
    "    \n",
    "    try:\n",
    "\n",
    "        f = open(path+texte,'r',encoding=\"utf-8\")\n",
    "        contenu = f.read()\n",
    "        \n",
    "    except UnicodeDecodeError:\n",
    "        \n",
    "        f = open(path+texte,'r',encoding=\"latin-1\")\n",
    "        contenu = f.read()\n",
    "    \n",
    "    contenu = contenu.lower()\n",
    "    \n",
    "    contenu = re.sub(r'\\b(' + r'|'.join(stop_words) + r')\\b\\s*','', contenu)\n",
    "        \n",
    "    acts = re.findall('<div1 .*?>(.*?)</div1>',contenu,flags=re.DOTALL)\n",
    "    \n",
    "    y += re.findall('<genre>(.*?)</genre>',contenu)*len(acts)\n",
    "    periode +=re.findall('<periode>(.*?)</periode>',contenu)*len(acts)\n",
    "\n",
    "    for i in range(len(acts)):\n",
    "        \n",
    "        acts[i] = re.sub('<.*?>', ' ', acts[i])\n",
    "        \n",
    "        acts[i] = re.sub(\"(\\s*\\n\\t*\\s*)\", \" \\n \", acts[i])\n",
    "        \n",
    "        X.append(acts[i])\n",
    "        \n",
    "    f.close()\n",
    "\n",
    "len(X),len(y),len(periode)"
   ]
  },
  {
   "cell_type": "markdown",
   "metadata": {},
   "source": [
    "<div class = \"alert alert-info\">\n",
    "      <h2>Choix des données relevantes et suppression des duplications</h2>\n",
    "                  </div>"
   ]
  },
  {
   "cell_type": "markdown",
   "metadata": {},
   "source": [
    "<div class=\"alert alert-warning\">\n",
    "\n",
    "<h2>  Genres</h2>\n",
    "</div>"
   ]
  },
  {
   "cell_type": "code",
   "execution_count": 7,
   "metadata": {},
   "outputs": [
    {
     "name": "stdout",
     "output_type": "stream",
     "text": [
      "we have 20 classes that exist at least 10 times, these classes are:\n"
     ]
    },
    {
     "data": {
      "text/plain": [
       "['tragédie',\n",
       " 'comédie',\n",
       " 'tragi-comédie',\n",
       " 'opéra',\n",
       " 'drame',\n",
       " 'proverbe',\n",
       " 'pastorale',\n",
       " 'comédie héroïque',\n",
       " 'opuscule dramatique',\n",
       " 'monologue',\n",
       " 'tragédie musique',\n",
       " 'farce',\n",
       " 'comédie-ballet',\n",
       " 'opéra comique',\n",
       " 'parodie',\n",
       " 'pastorale héroïque',\n",
       " 'tragédie lyrique',\n",
       " 'ballet',\n",
       " 'comédie galante',\n",
       " 'divertissement']"
      ]
     },
     "execution_count": 7,
     "metadata": {},
     "output_type": "execute_result"
    }
   ],
   "source": [
    "classes = [x[0] for x in Counter(y).most_common() if x[1] >= 10]\n",
    "print(\"we have {} classes that exist at least 10 times, these classes are:\".format(len(classes)))\n",
    "classes"
   ]
  },
  {
   "cell_type": "code",
   "execution_count": 8,
   "metadata": {},
   "outputs": [
    {
     "data": {
      "text/plain": [
       "[('tragédie', 1190),\n",
       " ('comédie', 1096),\n",
       " ('tragi-comédie', 348),\n",
       " ('opéra', 70),\n",
       " ('drame', 65),\n",
       " ('proverbe', 43),\n",
       " ('pastorale', 28),\n",
       " ('comédie héroïque', 27),\n",
       " ('opuscule dramatique', 25),\n",
       " ('monologue', 24),\n",
       " ('tragédie musique', 23),\n",
       " ('farce', 19),\n",
       " ('comédie-ballet', 19),\n",
       " ('opéra comique', 17),\n",
       " ('parodie', 17),\n",
       " ('pastorale héroïque', 15),\n",
       " ('tragédie lyrique', 14),\n",
       " ('ballet', 11),\n",
       " ('comédie galante', 11),\n",
       " ('divertissement', 10)]"
      ]
     },
     "execution_count": 8,
     "metadata": {},
     "output_type": "execute_result"
    }
   ],
   "source": [
    "most_common = Counter(y).most_common(len(classes))\n",
    "most_common"
   ]
  },
  {
   "cell_type": "code",
   "execution_count": 9,
   "metadata": {},
   "outputs": [
    {
     "name": "stdout",
     "output_type": "stream",
     "text": [
      "The overall dataset now is about 3072 acts\n",
      "the mean number of words (including punctuations) in an act is 2486.9515209125475\n",
      "the max number of words (including punctuations) in an act is 17365\n",
      "the min number of words (including punctuations) in an act is 75\n"
     ]
    }
   ],
   "source": [
    "nbre_acts = np.sum([x[1] for x in most_common])\n",
    "\n",
    "maxlen = np.max([len(x.split(\" \")) - np.sum(np.array(x.split(\" \")) == \"\") for x in X])\n",
    "minlen = np.min([len(x.split(\" \")) - np.sum(np.array(x.split(\" \")) == \"\") for x in X])\n",
    "meanlen = np.mean([len(x.split(\" \")) - np.sum(np.array(x.split(\" \")) == \"\") for x in X])\n",
    "\n",
    "print(\"The overall dataset now is about {} acts\".format(nbre_acts))\n",
    "print(\"the mean number of words (including punctuations) in an act is {}\".format(meanlen))\n",
    "print(\"the max number of words (including punctuations) in an act is {}\".format(maxlen))\n",
    "print(\"the min number of words (including punctuations) in an act is {}\".format(minlen))"
   ]
  },
  {
   "cell_type": "code",
   "execution_count": 10,
   "metadata": {},
   "outputs": [],
   "source": [
    "df = pd.DataFrame({\"Acts\":np.array(X),\"Labels\":np.array(y)})\n",
    "\n",
    "data = df[df[\"Labels\"].apply(lambda x: x in classes)]"
   ]
  },
  {
   "cell_type": "code",
   "execution_count": 11,
   "metadata": {},
   "outputs": [
    {
     "data": {
      "text/html": [
       "<div>\n",
       "<style scoped>\n",
       "    .dataframe tbody tr th:only-of-type {\n",
       "        vertical-align: middle;\n",
       "    }\n",
       "\n",
       "    .dataframe tbody tr th {\n",
       "        vertical-align: top;\n",
       "    }\n",
       "\n",
       "    .dataframe thead th {\n",
       "        text-align: right;\n",
       "    }\n",
       "</style>\n",
       "<table border=\"1\" class=\"dataframe\">\n",
       "  <thead>\n",
       "    <tr style=\"text-align: right;\">\n",
       "      <th></th>\n",
       "      <th>Acts</th>\n",
       "      <th>Labels</th>\n",
       "    </tr>\n",
       "  </thead>\n",
       "  <tbody>\n",
       "    <tr>\n",
       "      <th>count</th>\n",
       "      <td>3072</td>\n",
       "      <td>3072</td>\n",
       "    </tr>\n",
       "    <tr>\n",
       "      <th>unique</th>\n",
       "      <td>3066</td>\n",
       "      <td>20</td>\n",
       "    </tr>\n",
       "    <tr>\n",
       "      <th>top</th>\n",
       "      <td>annexes \\n liste oeuvres théâtrales jean raci...</td>\n",
       "      <td>tragédie</td>\n",
       "    </tr>\n",
       "    <tr>\n",
       "      <th>freq</th>\n",
       "      <td>4</td>\n",
       "      <td>1190</td>\n",
       "    </tr>\n",
       "  </tbody>\n",
       "</table>\n",
       "</div>"
      ],
      "text/plain": [
       "                                                     Acts    Labels\n",
       "count                                                3072      3072\n",
       "unique                                               3066        20\n",
       "top      annexes \\n liste oeuvres théâtrales jean raci...  tragédie\n",
       "freq                                                    4      1190"
      ]
     },
     "execution_count": 11,
     "metadata": {},
     "output_type": "execute_result"
    }
   ],
   "source": [
    "data.describe()"
   ]
  },
  {
   "cell_type": "code",
   "execution_count": 18,
   "metadata": {},
   "outputs": [],
   "source": [
    "data = data.drop_duplicates()"
   ]
  },
  {
   "cell_type": "code",
   "execution_count": 19,
   "metadata": {},
   "outputs": [
    {
     "data": {
      "text/html": [
       "<div>\n",
       "<style scoped>\n",
       "    .dataframe tbody tr th:only-of-type {\n",
       "        vertical-align: middle;\n",
       "    }\n",
       "\n",
       "    .dataframe tbody tr th {\n",
       "        vertical-align: top;\n",
       "    }\n",
       "\n",
       "    .dataframe thead th {\n",
       "        text-align: right;\n",
       "    }\n",
       "</style>\n",
       "<table border=\"1\" class=\"dataframe\">\n",
       "  <thead>\n",
       "    <tr style=\"text-align: right;\">\n",
       "      <th></th>\n",
       "      <th>Acts</th>\n",
       "      <th>Labels</th>\n",
       "    </tr>\n",
       "  </thead>\n",
       "  <tbody>\n",
       "    <tr>\n",
       "      <th>count</th>\n",
       "      <td>3066</td>\n",
       "      <td>3066</td>\n",
       "    </tr>\n",
       "    <tr>\n",
       "      <th>unique</th>\n",
       "      <td>3066</td>\n",
       "      <td>20</td>\n",
       "    </tr>\n",
       "    <tr>\n",
       "      <th>top</th>\n",
       "      <td>acte iv \\n scène premiere. aufide, camille. \\...</td>\n",
       "      <td>tragédie</td>\n",
       "    </tr>\n",
       "    <tr>\n",
       "      <th>freq</th>\n",
       "      <td>1</td>\n",
       "      <td>1184</td>\n",
       "    </tr>\n",
       "  </tbody>\n",
       "</table>\n",
       "</div>"
      ],
      "text/plain": [
       "                                                     Acts    Labels\n",
       "count                                                3066      3066\n",
       "unique                                               3066        20\n",
       "top      acte iv \\n scène premiere. aufide, camille. \\...  tragédie\n",
       "freq                                                    1      1184"
      ]
     },
     "execution_count": 19,
     "metadata": {},
     "output_type": "execute_result"
    }
   ],
   "source": [
    "data.describe()"
   ]
  },
  {
   "cell_type": "code",
   "execution_count": 20,
   "metadata": {},
   "outputs": [],
   "source": [
    "data[\"Labels\"] = pd.Categorical(data[\"Labels\"])\n",
    "\n",
    "data[\"LabelsNum\"] = data[\"Labels\"].cat.codes"
   ]
  },
  {
   "cell_type": "markdown",
   "metadata": {},
   "source": [
    "<div class=\"alert alert-warning\">\n",
    "\n",
    "<h2>  Periodes</h2>\n",
    "</div>"
   ]
  },
  {
   "cell_type": "code",
   "execution_count": 77,
   "metadata": {},
   "outputs": [
    {
     "data": {
      "text/plain": [
       "array(['(antique)', '(medieval)', '1501-1600', '1601-1700', '1701-1710',\n",
       "       '1701-1800', '1801-1900', '1901-2000'], dtype='<U10')"
      ]
     },
     "execution_count": 77,
     "metadata": {},
     "output_type": "execute_result"
    }
   ],
   "source": [
    "np.unique(periode)"
   ]
  },
  {
   "cell_type": "code",
   "execution_count": 76,
   "metadata": {},
   "outputs": [],
   "source": [
    "for i in range(len(periode)):\n",
    "    if periode[i] in ['1541-1550', '1571-1580']:\n",
    "        periode[i]='1501-1600'\n",
    "    elif periode[i] in ['1611-1620', '1621-1630', '1631-1640', '1641-1650', '1651-1660','1661-1670', '1671-1680', '1681-1690', '1691-1700']:\n",
    "        periode[i]='1601-1700'\n",
    "    elif periode[i] in ['1711-1720', '1721-1730', '1731-1740', '1741-1750', '1751-1760','1761-1770', '1771-1780', '1781-1790', '1791-1800']:\n",
    "        periode[i]='1701-1800'\n",
    "    elif periode[i] in ['1801-1810','1821-1830', '1831-1840', '1841-1850', '1851-1860', '1861-1870','1871-1880', '1881-1890', '1891-1900']:\n",
    "        periode[i]='1801-1900'\n",
    "    elif periode[i] in ['1901-1910', '1911-1920']:\n",
    "        periode[i]='1901-2000'"
   ]
  },
  {
   "cell_type": "code",
   "execution_count": 78,
   "metadata": {},
   "outputs": [
    {
     "name": "stdout",
     "output_type": "stream",
     "text": [
      "we have 6 classes that exist at least 10 times, these classes are:\n"
     ]
    },
    {
     "data": {
      "text/plain": [
       "['1601-1700', '1701-1800', '1701-1710', '1801-1900', '(antique)', '1501-1600']"
      ]
     },
     "execution_count": 78,
     "metadata": {},
     "output_type": "execute_result"
    }
   ],
   "source": [
    "classesP = [x[0] for x in Counter(periode).most_common() if x[1] >= 10]\n",
    "print(\"we have {} classes that exist at least 10 times, these classes are:\".format(len(classesP)))\n",
    "classesP"
   ]
  },
  {
   "cell_type": "code",
   "execution_count": 79,
   "metadata": {},
   "outputs": [
    {
     "data": {
      "text/plain": [
       "[('1601-1700', 1802),\n",
       " ('1701-1800', 1036),\n",
       " ('1701-1710', 131),\n",
       " ('1801-1900', 115),\n",
       " ('(antique)', 47),\n",
       " ('1501-1600', 22)]"
      ]
     },
     "execution_count": 79,
     "metadata": {},
     "output_type": "execute_result"
    }
   ],
   "source": [
    "most_commonP = Counter(periode).most_common(len(classesP))\n",
    "most_commonP"
   ]
  },
  {
   "cell_type": "code",
   "execution_count": 83,
   "metadata": {},
   "outputs": [],
   "source": [
    "dfP = pd.DataFrame({\"Acts\":np.array(X),\"Labels\":np.array(y),\"Periodes\":np.array(periode)})\n",
    "\n",
    "dataP = dfP[dfP[\"Periodes\"].apply(lambda x: x in classesP)]"
   ]
  },
  {
   "cell_type": "code",
   "execution_count": 84,
   "metadata": {},
   "outputs": [
    {
     "data": {
      "text/html": [
       "<div>\n",
       "<style scoped>\n",
       "    .dataframe tbody tr th:only-of-type {\n",
       "        vertical-align: middle;\n",
       "    }\n",
       "\n",
       "    .dataframe tbody tr th {\n",
       "        vertical-align: top;\n",
       "    }\n",
       "\n",
       "    .dataframe thead th {\n",
       "        text-align: right;\n",
       "    }\n",
       "</style>\n",
       "<table border=\"1\" class=\"dataframe\">\n",
       "  <thead>\n",
       "    <tr style=\"text-align: right;\">\n",
       "      <th></th>\n",
       "      <th>Acts</th>\n",
       "      <th>Labels</th>\n",
       "      <th>Periodes</th>\n",
       "    </tr>\n",
       "  </thead>\n",
       "  <tbody>\n",
       "    <tr>\n",
       "      <th>count</th>\n",
       "      <td>3153</td>\n",
       "      <td>3153</td>\n",
       "      <td>3153</td>\n",
       "    </tr>\n",
       "    <tr>\n",
       "      <th>unique</th>\n",
       "      <td>3147</td>\n",
       "      <td>49</td>\n",
       "      <td>6</td>\n",
       "    </tr>\n",
       "    <tr>\n",
       "      <th>top</th>\n",
       "      <td>annexes \\n liste oeuvres théâtrales jean raci...</td>\n",
       "      <td>tragédie</td>\n",
       "      <td>1601-1700</td>\n",
       "    </tr>\n",
       "    <tr>\n",
       "      <th>freq</th>\n",
       "      <td>4</td>\n",
       "      <td>1190</td>\n",
       "      <td>1802</td>\n",
       "    </tr>\n",
       "  </tbody>\n",
       "</table>\n",
       "</div>"
      ],
      "text/plain": [
       "                                                     Acts    Labels   Periodes\n",
       "count                                                3153      3153       3153\n",
       "unique                                               3147        49          6\n",
       "top      annexes \\n liste oeuvres théâtrales jean raci...  tragédie  1601-1700\n",
       "freq                                                    4      1190       1802"
      ]
     },
     "execution_count": 84,
     "metadata": {},
     "output_type": "execute_result"
    }
   ],
   "source": [
    "dataP.describe()"
   ]
  },
  {
   "cell_type": "code",
   "execution_count": 86,
   "metadata": {},
   "outputs": [
    {
     "name": "stderr",
     "output_type": "stream",
     "text": [
      "C:\\Users\\Salim\\Anaconda3\\envs\\tensorflow\\lib\\site-packages\\ipykernel_launcher.py:1: SettingWithCopyWarning: \n",
      "A value is trying to be set on a copy of a slice from a DataFrame.\n",
      "Try using .loc[row_indexer,col_indexer] = value instead\n",
      "\n",
      "See the caveats in the documentation: http://pandas.pydata.org/pandas-docs/stable/indexing.html#indexing-view-versus-copy\n",
      "  \"\"\"Entry point for launching an IPython kernel.\n",
      "C:\\Users\\Salim\\Anaconda3\\envs\\tensorflow\\lib\\site-packages\\ipykernel_launcher.py:3: SettingWithCopyWarning: \n",
      "A value is trying to be set on a copy of a slice from a DataFrame.\n",
      "Try using .loc[row_indexer,col_indexer] = value instead\n",
      "\n",
      "See the caveats in the documentation: http://pandas.pydata.org/pandas-docs/stable/indexing.html#indexing-view-versus-copy\n",
      "  This is separate from the ipykernel package so we can avoid doing imports until\n"
     ]
    }
   ],
   "source": [
    "dataP[\"Periodes\"] = pd.Categorical(dataP[\"Periodes\"])\n",
    "\n",
    "dataP[\"PeriodesNum\"] = dataP[\"Periodes\"].cat.codes"
   ]
  },
  {
   "cell_type": "markdown",
   "metadata": {},
   "source": [
    "<div class = \"alert alert-info\">\n",
    "      <h2>Préparation à l'entrainement - distribution identique par classe </h2>\n",
    "                  </div>"
   ]
  },
  {
   "cell_type": "markdown",
   "metadata": {},
   "source": [
    "<div class=\"alert alert-warning\">\n",
    "\n",
    "<h2>  Toutes les classes</h2>\n",
    "</div>"
   ]
  },
  {
   "cell_type": "code",
   "execution_count": 166,
   "metadata": {},
   "outputs": [
    {
     "data": {
      "image/png": "[encoded data removed]",
      "text/plain": [
       "<Figure size 864x576 with 1 Axes>"
      ]
     },
     "metadata": {},
     "output_type": "display_data"
    }
   ],
   "source": [
    "sns.set()\n",
    "\n",
    "plt.figure(figsize=(12,8))\n",
    "\n",
    "plt.title(\"Acts distribution per class\",fontsize = 16)\n",
    "\n",
    "pd.Series(data[\"Labels\"].values).value_counts(ascending = True).plot(kind='barh')\n",
    "\n",
    "plt.show()"
   ]
  },
  {
   "cell_type": "code",
   "execution_count": 22,
   "metadata": {},
   "outputs": [],
   "source": [
    "sss = StratifiedShuffleSplit(test_size = 0.25)\n",
    "\n",
    "acts = data[\"Acts\"].values\n",
    "labels = data[\"LabelsNum\"].values\n",
    "\n",
    "for train_index, test_index in sss.split(acts,labels):\n",
    "    \n",
    "    X_train, X_test = acts[train_index], acts[test_index]\n",
    "    y_train, y_test = labels[train_index], labels[test_index]"
   ]
  },
  {
   "cell_type": "code",
   "execution_count": 23,
   "metadata": {},
   "outputs": [
    {
     "data": {
      "text/plain": [
       "((2299,), (767,))"
      ]
     },
     "execution_count": 23,
     "metadata": {},
     "output_type": "execute_result"
    }
   ],
   "source": [
    "X_train.shape,X_test.shape"
   ]
  },
  {
   "cell_type": "code",
   "execution_count": 188,
   "metadata": {},
   "outputs": [
    {
     "data": {
      "image/png": "[encoded data removed]",
      "text/plain": [
       "<Figure size 1440x576 with 2 Axes>"
      ]
     },
     "metadata": {},
     "output_type": "display_data"
    }
   ],
   "source": [
    "plt.figure(figsize=(20,8))\n",
    "plt.subplot(121)\n",
    "plt.title(\"Classes' distribution in training set\",fontsize = 16)\n",
    "pd.Series(y_train).value_counts(normalize = True).plot(kind='bar')\n",
    "\n",
    "plt.subplot(122)\n",
    "plt.title(\"Classes' distribution in testing set\",fontsize = 16)\n",
    "pd.Series(y_test).value_counts(normalize = True).plot(kind='bar')\n",
    "\n",
    "plt.show()"
   ]
  },
  {
   "cell_type": "markdown",
   "metadata": {},
   "source": [
    "<div class=\"alert alert-warning\">\n",
    "\n",
    "<h2>  2 Classes: Tragédie et comédie</h2>\n",
    "</div>"
   ]
  },
  {
   "cell_type": "code",
   "execution_count": 45,
   "metadata": {},
   "outputs": [],
   "source": [
    "data2=data[data['Labels']=='tragédie']\n",
    "data2bis=data[data['Labels']=='comédie']\n",
    "Data2=pd.concat([data2,data2bis],axis=0)"
   ]
  },
  {
   "cell_type": "code",
   "execution_count": 49,
   "metadata": {},
   "outputs": [],
   "source": [
    "sss2 = StratifiedShuffleSplit(test_size = 0.25)\n",
    "\n",
    "acts2 = Data2[\"Acts\"].values\n",
    "labels2 = Data2[\"LabelsNum\"].values\n",
    "\n",
    "for train_index2, test_index2 in sss.split(acts2,labels2):\n",
    "    \n",
    "    X_train2, X_test2 = acts2[train_index2], acts2[test_index2]\n",
    "    y_train2, y_test2 = labels2[train_index2], labels2[test_index2]"
   ]
  },
  {
   "cell_type": "code",
   "execution_count": 50,
   "metadata": {},
   "outputs": [
    {
     "data": {
      "text/plain": [
       "((1710,), (570,))"
      ]
     },
     "execution_count": 50,
     "metadata": {},
     "output_type": "execute_result"
    }
   ],
   "source": [
    "X_train2.shape,X_test2.shape"
   ]
  },
  {
   "cell_type": "markdown",
   "metadata": {},
   "source": [
    "<div class=\"alert alert-warning\">\n",
    "<h2>  Périodes</h2>\n",
    "</div>"
   ]
  },
  {
   "cell_type": "code",
   "execution_count": 89,
   "metadata": {},
   "outputs": [],
   "source": [
    "sssP = StratifiedShuffleSplit(test_size = 0.25)\n",
    "\n",
    "actsP = dataP[\"Acts\"].values\n",
    "labelsP = dataP[\"PeriodesNum\"].values\n",
    "\n",
    "for train_indexP, test_indexP in sss.split(actsP,labelsP):\n",
    "    \n",
    "    X_trainP, X_testP = actsP[train_indexP], actsP[test_indexP]\n",
    "    y_trainP, y_testP = labelsP[train_indexP], labelsP[test_indexP]"
   ]
  },
  {
   "cell_type": "code",
   "execution_count": 90,
   "metadata": {},
   "outputs": [
    {
     "data": {
      "text/plain": [
       "((2364,), (789,))"
      ]
     },
     "execution_count": 90,
     "metadata": {},
     "output_type": "execute_result"
    }
   ],
   "source": [
    "X_trainP.shape,X_testP.shape"
   ]
  },
  {
   "cell_type": "markdown",
   "metadata": {},
   "source": [
    "<div class=\"alert alert-info\">\n",
    "    <h2>Word Embedding</h2>\n",
    "    </div>"
   ]
  },
  {
   "cell_type": "markdown",
   "metadata": {},
   "source": [
    "<div class=\"alert alert-warning\">\n",
    "\n",
    "<h2>  Toutes les classes</h2>\n",
    "</div>"
   ]
  },
  {
   "cell_type": "code",
   "execution_count": 27,
   "metadata": {},
   "outputs": [],
   "source": [
    "maxlen  = 2500\n",
    "\n",
    "tokenizer = Tokenizer(num_words = 10000)\n",
    "\n",
    "tokenizer.fit_on_texts(X_train)\n",
    "\n",
    "sequences = np.array(tokenizer.texts_to_sequences(X_train))\n",
    "\n",
    "X_train = preprocessing.sequence.pad_sequences(sequences, maxlen=maxlen)\n",
    "\n",
    "tokenizer = Tokenizer(num_words=10000)\n",
    "\n",
    "tokenizer.fit_on_texts(X_test)\n",
    "\n",
    "sequences = np.array(tokenizer.texts_to_sequences(X_test))\n",
    "\n",
    "X_test = preprocessing.sequence.pad_sequences(sequences, maxlen=maxlen)\n",
    "\n",
    "y_train = pd.get_dummies(y_train)\n",
    "\n",
    "y_test = pd.get_dummies(y_test)"
   ]
  },
  {
   "cell_type": "code",
   "execution_count": 28,
   "metadata": {},
   "outputs": [
    {
     "data": {
      "text/plain": [
       "((2299, 2500), (767, 2500), (2299, 20), (767, 20))"
      ]
     },
     "execution_count": 28,
     "metadata": {},
     "output_type": "execute_result"
    }
   ],
   "source": [
    "X_train.shape,X_test.shape,y_train.shape,y_test.shape"
   ]
  },
  {
   "cell_type": "code",
   "execution_count": 58,
   "metadata": {},
   "outputs": [
    {
     "name": "stdout",
     "output_type": "stream",
     "text": [
      "_________________________________________________________________\n",
      "Layer (type)                 Output Shape              Param #   \n",
      "=================================================================\n",
      "embedding_5 (Embedding)      (None, 2500, 64)          640000    \n",
      "_________________________________________________________________\n",
      "flatten_5 (Flatten)          (None, 160000)            0         \n",
      "_________________________________________________________________\n",
      "dense_13 (Dense)             (None, 20)                3200020   \n",
      "_________________________________________________________________\n",
      "dense_14 (Dense)             (None, 20)                420       \n",
      "_________________________________________________________________\n",
      "dense_15 (Dense)             (None, 20)                420       \n",
      "=================================================================\n",
      "Total params: 3,840,860\n",
      "Trainable params: 3,840,860\n",
      "Non-trainable params: 0\n",
      "_________________________________________________________________\n",
      "Train on 1839 samples, validate on 460 samples\n",
      "Epoch 1/50\n",
      "1839/1839 [==============================] - 5s 3ms/step - loss: 2.4720 - acc: 0.0647 - val_loss: 2.1428 - val_acc: 0.0870\n",
      "Epoch 2/50\n",
      "1839/1839 [==============================] - 5s 3ms/step - loss: 2.0162 - acc: 0.1131 - val_loss: 2.0111 - val_acc: 0.0935\n",
      "Epoch 3/50\n",
      "1839/1839 [==============================] - 4s 2ms/step - loss: 1.6824 - acc: 0.1327 - val_loss: 1.7692 - val_acc: 0.1457\n",
      "Epoch 4/50\n",
      "1839/1839 [==============================] - 4s 2ms/step - loss: 1.3583 - acc: 0.2567 - val_loss: 1.4141 - val_acc: 0.4022\n",
      "Epoch 5/50\n",
      "1839/1839 [==============================] - 4s 2ms/step - loss: 0.8912 - acc: 0.6895 - val_loss: 1.1394 - val_acc: 0.7326\n",
      "Epoch 6/50\n",
      "1839/1839 [==============================] - 4s 2ms/step - loss: 0.5223 - acc: 0.8053 - val_loss: 1.0723 - val_acc: 0.7543\n",
      "Epoch 7/50\n",
      "1839/1839 [==============================] - 4s 2ms/step - loss: 0.3062 - acc: 0.8912 - val_loss: 1.1639 - val_acc: 0.7500\n",
      "Epoch 8/50\n",
      "1839/1839 [==============================] - 4s 2ms/step - loss: 0.3136 - acc: 0.8749 - val_loss: 1.0290 - val_acc: 0.7761\n",
      "Epoch 9/50\n",
      "1839/1839 [==============================] - 4s 2ms/step - loss: 0.1499 - acc: 0.9505 - val_loss: 1.1227 - val_acc: 0.7630\n",
      "Epoch 10/50\n",
      "1839/1839 [==============================] - 4s 2ms/step - loss: 0.1681 - acc: 0.9456 - val_loss: 1.0948 - val_acc: 0.7478\n",
      "Epoch 11/50\n",
      "1839/1839 [==============================] - 4s 2ms/step - loss: 0.0674 - acc: 0.9897 - val_loss: 1.1318 - val_acc: 0.7652\n",
      "Epoch 12/50\n",
      "1839/1839 [==============================] - 5s 3ms/step - loss: 0.0439 - acc: 0.9935 - val_loss: 1.1305 - val_acc: 0.7500\n",
      "Epoch 13/50\n",
      "1839/1839 [==============================] - 4s 2ms/step - loss: 0.0253 - acc: 0.9984 - val_loss: 1.1318 - val_acc: 0.6978\n",
      "Epoch 14/50\n",
      "1839/1839 [==============================] - 4s 2ms/step - loss: 0.0293 - acc: 0.9956 - val_loss: 1.3185 - val_acc: 0.7609\n",
      "Epoch 15/50\n",
      "1839/1839 [==============================] - 4s 2ms/step - loss: 0.0109 - acc: 0.9989 - val_loss: 1.3244 - val_acc: 0.7696\n",
      "Epoch 16/50\n",
      "1839/1839 [==============================] - 4s 2ms/step - loss: 0.0118 - acc: 0.9995 - val_loss: 1.3162 - val_acc: 0.7717\n",
      "Epoch 17/50\n",
      "1839/1839 [==============================] - 4s 2ms/step - loss: 0.0742 - acc: 0.9777 - val_loss: 1.6584 - val_acc: 0.7500\n",
      "Epoch 18/50\n",
      "1839/1839 [==============================] - 4s 2ms/step - loss: 0.0069 - acc: 1.0000 - val_loss: 1.5549 - val_acc: 0.7652\n",
      "Epoch 19/50\n",
      "1839/1839 [==============================] - 4s 2ms/step - loss: 0.0027 - acc: 1.0000 - val_loss: 1.5233 - val_acc: 0.7674\n",
      "Epoch 20/50\n",
      "1839/1839 [==============================] - 4s 2ms/step - loss: 0.0019 - acc: 1.0000 - val_loss: 1.5576 - val_acc: 0.7717\n",
      "Epoch 21/50\n",
      "1839/1839 [==============================] - 4s 2ms/step - loss: 0.0013 - acc: 1.0000 - val_loss: 1.5633 - val_acc: 0.7717\n",
      "Epoch 22/50\n",
      "1839/1839 [==============================] - 4s 2ms/step - loss: 0.0012 - acc: 0.9995 - val_loss: 1.5564 - val_acc: 0.7761\n",
      "Epoch 23/50\n",
      "1839/1839 [==============================] - 4s 2ms/step - loss: 7.6565e-04 - acc: 0.9995 - val_loss: 1.5933 - val_acc: 0.7761\n",
      "Epoch 24/50\n",
      "1839/1839 [==============================] - 4s 2ms/step - loss: 5.8600e-04 - acc: 0.9995 - val_loss: 1.6698 - val_acc: 0.7783\n",
      "Epoch 25/50\n",
      "1839/1839 [==============================] - 4s 2ms/step - loss: 4.9864e-04 - acc: 1.0000 - val_loss: 1.6467 - val_acc: 0.7717\n",
      "Epoch 26/50\n",
      "1839/1839 [==============================] - 4s 2ms/step - loss: 0.0013 - acc: 0.9995 - val_loss: 3.4908 - val_acc: 0.6739\n",
      "Epoch 27/50\n",
      "1839/1839 [==============================] - 4s 2ms/step - loss: 0.0148 - acc: 0.9951 - val_loss: 1.8080 - val_acc: 0.7739\n",
      "Epoch 28/50\n",
      "1839/1839 [==============================] - 4s 2ms/step - loss: 6.3375e-04 - acc: 0.9995 - val_loss: 1.7862 - val_acc: 0.7783\n",
      "Epoch 29/50\n",
      "1839/1839 [==============================] - 4s 2ms/step - loss: 4.7916e-04 - acc: 0.9995 - val_loss: 1.7556 - val_acc: 0.7783\n",
      "Epoch 30/50\n",
      "1839/1839 [==============================] - 4s 2ms/step - loss: 4.3493e-04 - acc: 1.0000 - val_loss: 1.7453 - val_acc: 0.7826\n",
      "Epoch 31/50\n",
      "1839/1839 [==============================] - 4s 2ms/step - loss: 4.1115e-04 - acc: 1.0000 - val_loss: 1.7363 - val_acc: 0.7826\n",
      "Epoch 32/50\n",
      "1839/1839 [==============================] - 4s 2ms/step - loss: 4.0030e-04 - acc: 1.0000 - val_loss: 1.7506 - val_acc: 0.7804\n",
      "Epoch 33/50\n",
      "1839/1839 [==============================] - 4s 2ms/step - loss: 3.9323e-04 - acc: 1.0000 - val_loss: 1.7498 - val_acc: 0.7783\n",
      "Epoch 34/50\n",
      "1839/1839 [==============================] - 4s 2ms/step - loss: 3.8798e-04 - acc: 0.9995 - val_loss: 1.7723 - val_acc: 0.7804\n",
      "Epoch 35/50\n",
      "1839/1839 [==============================] - 4s 2ms/step - loss: 3.8352e-04 - acc: 1.0000 - val_loss: 1.7915 - val_acc: 0.7761\n",
      "Epoch 36/50\n",
      "1839/1839 [==============================] - 4s 2ms/step - loss: 3.8139e-04 - acc: 1.0000 - val_loss: 1.8468 - val_acc: 0.7804\n",
      "Epoch 37/50\n",
      "1839/1839 [==============================] - 4s 2ms/step - loss: 3.8016e-04 - acc: 1.0000 - val_loss: 1.8467 - val_acc: 0.7783\n",
      "Epoch 38/50\n",
      "1839/1839 [==============================] - 4s 2ms/step - loss: 3.7894e-04 - acc: 1.0000 - val_loss: 1.8232 - val_acc: 0.7870\n",
      "Epoch 39/50\n",
      "1839/1839 [==============================] - 4s 2ms/step - loss: 3.7836e-04 - acc: 1.0000 - val_loss: 1.9426 - val_acc: 0.7761\n",
      "Epoch 40/50\n",
      "1839/1839 [==============================] - 5s 3ms/step - loss: 3.7787e-04 - acc: 1.0000 - val_loss: 1.8677 - val_acc: 0.7761\n",
      "Epoch 41/50\n",
      "1839/1839 [==============================] - 4s 2ms/step - loss: 0.0301 - acc: 0.9929 - val_loss: 2.6985 - val_acc: 0.6543\n",
      "Epoch 42/50\n",
      "1839/1839 [==============================] - 4s 2ms/step - loss: 9.1271e-04 - acc: 1.0000 - val_loss: 2.1546 - val_acc: 0.7478\n",
      "Epoch 43/50\n",
      "1839/1839 [==============================] - 4s 2ms/step - loss: 4.0363e-04 - acc: 1.0000 - val_loss: 2.1253 - val_acc: 0.7630\n",
      "Epoch 44/50\n",
      "1839/1839 [==============================] - 4s 2ms/step - loss: 3.9184e-04 - acc: 1.0000 - val_loss: 2.1011 - val_acc: 0.7717\n",
      "Epoch 45/50\n",
      "1839/1839 [==============================] - 4s 2ms/step - loss: 3.8545e-04 - acc: 1.0000 - val_loss: 2.0829 - val_acc: 0.7696\n",
      "Epoch 46/50\n",
      "1839/1839 [==============================] - 4s 2ms/step - loss: 3.8204e-04 - acc: 1.0000 - val_loss: 2.0701 - val_acc: 0.7717\n",
      "Epoch 47/50\n",
      "1839/1839 [==============================] - 4s 2ms/step - loss: 3.8002e-04 - acc: 1.0000 - val_loss: 2.0610 - val_acc: 0.7717\n",
      "Epoch 48/50\n",
      "1839/1839 [==============================] - 4s 2ms/step - loss: 3.7888e-04 - acc: 1.0000 - val_loss: 2.0520 - val_acc: 0.7739\n",
      "Epoch 49/50\n",
      "1839/1839 [==============================] - 4s 2ms/step - loss: 3.7822e-04 - acc: 1.0000 - val_loss: 2.0527 - val_acc: 0.7761\n",
      "Epoch 50/50\n",
      "1839/1839 [==============================] - 4s 2ms/step - loss: 3.7780e-04 - acc: 1.0000 - val_loss: 2.0575 - val_acc: 0.7804\n"
     ]
    }
   ],
   "source": [
    "model = Sequential()\n",
    "model.add(Embedding(10000,64, input_length = maxlen))\n",
    "model.add(Flatten())\n",
    "model.add(Dense(20,activation=\"relu\"))\n",
    "model.add(Dense(20, activation=\"relu\"))\n",
    "model.add(Dense(20, activation='sigmoid'))\n",
    "model.compile(optimizer='rmsprop', loss='categorical_crossentropy',metrics = ['accuracy'])\n",
    "model.summary()\n",
    "history = model.fit(X_train, y_train, epochs = 50, batch_size = 128, validation_split = 0.2)"
   ]
  },
  {
   "cell_type": "code",
   "execution_count": 59,
   "metadata": {},
   "outputs": [
    {
     "name": "stdout",
     "output_type": "stream",
     "text": [
      "767/767 [==============================] - 0s 639us/step\n"
     ]
    },
    {
     "data": {
      "text/plain": [
       "[6.114644835794143, 0.35984354581795586]"
      ]
     },
     "execution_count": 59,
     "metadata": {},
     "output_type": "execute_result"
    }
   ],
   "source": [
    "results = model.evaluate(X_test, y_test)\n",
    "results"
   ]
  },
  {
   "cell_type": "markdown",
   "metadata": {},
   "source": [
    "<div class=\"alert alert-warning\">\n",
    "\n",
    "<h2>  2 Classes: Tragédie et comédie</h2>\n",
    "</div>"
   ]
  },
  {
   "cell_type": "code",
   "execution_count": 51,
   "metadata": {},
   "outputs": [],
   "source": [
    "maxlen  = 2500\n",
    "\n",
    "tokenizer = Tokenizer(num_words = 10000)\n",
    "\n",
    "tokenizer.fit_on_texts(X_train2)\n",
    "\n",
    "sequences = np.array(tokenizer.texts_to_sequences(X_train2))\n",
    "\n",
    "X_train2 = preprocessing.sequence.pad_sequences(sequences, maxlen=maxlen)\n",
    "\n",
    "tokenizer = Tokenizer(num_words=10000)\n",
    "\n",
    "tokenizer.fit_on_texts(X_test2)\n",
    "\n",
    "sequences = np.array(tokenizer.texts_to_sequences(X_test2))\n",
    "\n",
    "X_test2 = preprocessing.sequence.pad_sequences(sequences, maxlen=maxlen)\n",
    "\n",
    "y_train2 = pd.get_dummies(y_train2)\n",
    "\n",
    "y_test2 = pd.get_dummies(y_test2)"
   ]
  },
  {
   "cell_type": "code",
   "execution_count": 52,
   "metadata": {},
   "outputs": [
    {
     "data": {
      "text/plain": [
       "((1710, 2500), (570, 2500), (1710, 2), (570, 2))"
      ]
     },
     "execution_count": 52,
     "metadata": {},
     "output_type": "execute_result"
    }
   ],
   "source": [
    "X_train2.shape,X_test2.shape,y_train2.shape,y_test2.shape"
   ]
  },
  {
   "cell_type": "code",
   "execution_count": 62,
   "metadata": {},
   "outputs": [
    {
     "ename": "ValueError",
     "evalue": "This model has not yet been built. Build the model first by calling build() or calling fit() with some data. Or specify input_shape or batch_input_shape in the first layer for automatic build. ",
     "output_type": "error",
     "traceback": [
      "\u001b[1;31m---------------------------------------------------------------------------\u001b[0m",
      "\u001b[1;31mValueError\u001b[0m                                Traceback (most recent call last)",
      "\u001b[1;32m<ipython-input-62-e0f564916b4e>\u001b[0m in \u001b[0;36m<module>\u001b[1;34m()\u001b[0m\n\u001b[0;32m      6\u001b[0m \u001b[0mmodel2\u001b[0m\u001b[1;33m.\u001b[0m\u001b[0madd\u001b[0m\u001b[1;33m(\u001b[0m\u001b[0mDense\u001b[0m\u001b[1;33m(\u001b[0m\u001b[1;36m2\u001b[0m\u001b[1;33m,\u001b[0m \u001b[0mactivation\u001b[0m\u001b[1;33m=\u001b[0m\u001b[1;34m'sigmoid'\u001b[0m\u001b[1;33m)\u001b[0m\u001b[1;33m)\u001b[0m\u001b[1;33m\u001b[0m\u001b[0m\n\u001b[0;32m      7\u001b[0m \u001b[0mmodel2\u001b[0m\u001b[1;33m.\u001b[0m\u001b[0mcompile\u001b[0m\u001b[1;33m(\u001b[0m\u001b[0moptimizer\u001b[0m\u001b[1;33m=\u001b[0m\u001b[1;34m'rmsprop'\u001b[0m\u001b[1;33m,\u001b[0m \u001b[0mloss\u001b[0m\u001b[1;33m=\u001b[0m\u001b[1;34m'binary_crossentropy'\u001b[0m\u001b[1;33m,\u001b[0m\u001b[0mmetrics\u001b[0m \u001b[1;33m=\u001b[0m \u001b[1;33m[\u001b[0m\u001b[1;34m'accuracy'\u001b[0m\u001b[1;33m]\u001b[0m\u001b[1;33m)\u001b[0m\u001b[1;33m\u001b[0m\u001b[0m\n\u001b[1;32m----> 8\u001b[1;33m \u001b[0mmodel2\u001b[0m\u001b[1;33m.\u001b[0m\u001b[0msummary\u001b[0m\u001b[1;33m(\u001b[0m\u001b[1;33m)\u001b[0m\u001b[1;33m\u001b[0m\u001b[0m\n\u001b[0m\u001b[0;32m      9\u001b[0m \u001b[0mhistory\u001b[0m \u001b[1;33m=\u001b[0m \u001b[0mmodel2\u001b[0m\u001b[1;33m.\u001b[0m\u001b[0mfit\u001b[0m\u001b[1;33m(\u001b[0m\u001b[0mX_train2\u001b[0m\u001b[1;33m,\u001b[0m \u001b[0my_train2\u001b[0m\u001b[1;33m,\u001b[0m \u001b[0mepochs\u001b[0m \u001b[1;33m=\u001b[0m \u001b[1;36m50\u001b[0m\u001b[1;33m,\u001b[0m \u001b[0mbatch_size\u001b[0m \u001b[1;33m=\u001b[0m \u001b[1;36m128\u001b[0m\u001b[1;33m,\u001b[0m \u001b[0mvalidation_split\u001b[0m \u001b[1;33m=\u001b[0m \u001b[1;36m0.2\u001b[0m\u001b[1;33m)\u001b[0m\u001b[1;33m\u001b[0m\u001b[0m\n",
      "\u001b[1;32m~\\Anaconda3\\envs\\tensorflow\\lib\\site-packages\\keras\\engine\\network.py\u001b[0m in \u001b[0;36msummary\u001b[1;34m(self, line_length, positions, print_fn)\u001b[0m\n\u001b[0;32m   1250\u001b[0m         \u001b[1;32mif\u001b[0m \u001b[1;32mnot\u001b[0m \u001b[0mself\u001b[0m\u001b[1;33m.\u001b[0m\u001b[0mbuilt\u001b[0m\u001b[1;33m:\u001b[0m\u001b[1;33m\u001b[0m\u001b[0m\n\u001b[0;32m   1251\u001b[0m             raise ValueError(\n\u001b[1;32m-> 1252\u001b[1;33m                 \u001b[1;34m'This model has not yet been built. '\u001b[0m\u001b[1;33m\u001b[0m\u001b[0m\n\u001b[0m\u001b[0;32m   1253\u001b[0m                 \u001b[1;34m'Build the model first by calling build() '\u001b[0m\u001b[1;33m\u001b[0m\u001b[0m\n\u001b[0;32m   1254\u001b[0m                 \u001b[1;34m'or calling fit() with some data. '\u001b[0m\u001b[1;33m\u001b[0m\u001b[0m\n",
      "\u001b[1;31mValueError\u001b[0m: This model has not yet been built. Build the model first by calling build() or calling fit() with some data. Or specify input_shape or batch_input_shape in the first layer for automatic build. "
     ]
    }
   ],
   "source": [
    "model2 = Sequential()\n",
    "model2.add(Embedding(10000,64, input_length = maxlen))\n",
    "model2.add(Flatten())\n",
    "model2.add(Dense(50,activation=\"relu\"))\n",
    "model2.add(Dense(50, activation=\"relu\"))\n",
    "model2.add(Dense(2, activation='sigmoid'))\n",
    "model2.compile(optimizer='rmsprop', loss='binary_crossentropy',metrics = ['accuracy'])\n",
    "model2.summary()\n",
    "history = model2.fit(X_train2, y_train2, epochs = 50, batch_size = 128, validation_split = 0.2)"
   ]
  },
  {
   "cell_type": "code",
   "execution_count": 61,
   "metadata": {},
   "outputs": [
    {
     "name": "stdout",
     "output_type": "stream",
     "text": [
      "570/570 [==============================] - 1s 968us/step\n"
     ]
    },
    {
     "data": {
      "text/plain": [
       "[0.9209793063632229, 0.7298245626583434]"
      ]
     },
     "execution_count": 61,
     "metadata": {},
     "output_type": "execute_result"
    }
   ],
   "source": [
    "results2 = model2.evaluate(X_test2, y_test2)\n",
    "results2"
   ]
  },
  {
   "cell_type": "markdown",
   "metadata": {},
   "source": [
    "<div class=\"alert alert-warning\">\n",
    "<h2>  Périodes</h2>\n",
    "</div>"
   ]
  },
  {
   "cell_type": "code",
   "execution_count": 92,
   "metadata": {},
   "outputs": [],
   "source": [
    "maxlen  = 2500\n",
    "\n",
    "tokenizer = Tokenizer(num_words = 10000)\n",
    "\n",
    "tokenizer.fit_on_texts(X_trainP)\n",
    "\n",
    "sequences = np.array(tokenizer.texts_to_sequences(X_trainP))\n",
    "\n",
    "X_trainP = preprocessing.sequence.pad_sequences(sequences, maxlen=maxlen)\n",
    "\n",
    "tokenizer = Tokenizer(num_words=10000)\n",
    "\n",
    "tokenizer.fit_on_texts(X_testP)\n",
    "\n",
    "sequences = np.array(tokenizer.texts_to_sequences(X_testP))\n",
    "\n",
    "X_testP = preprocessing.sequence.pad_sequences(sequences, maxlen=maxlen)\n",
    "\n",
    "y_trainP = pd.get_dummies(y_trainP)\n",
    "\n",
    "y_testP = pd.get_dummies(y_testP)"
   ]
  },
  {
   "cell_type": "code",
   "execution_count": 93,
   "metadata": {},
   "outputs": [
    {
     "data": {
      "text/plain": [
       "((2364, 2500), (789, 2500), (2364, 6), (789, 6))"
      ]
     },
     "execution_count": 93,
     "metadata": {},
     "output_type": "execute_result"
    }
   ],
   "source": [
    "X_trainP.shape,X_testP.shape,y_trainP.shape,y_testP.shape"
   ]
  },
  {
   "cell_type": "code",
   "execution_count": 94,
   "metadata": {},
   "outputs": [
    {
     "name": "stdout",
     "output_type": "stream",
     "text": [
      "_________________________________________________________________\n",
      "Layer (type)                 Output Shape              Param #   \n",
      "=================================================================\n",
      "embedding_7 (Embedding)      (None, 2500, 64)          640000    \n",
      "_________________________________________________________________\n",
      "flatten_7 (Flatten)          (None, 160000)            0         \n",
      "_________________________________________________________________\n",
      "dense_22 (Dense)             (None, 20)                3200020   \n",
      "_________________________________________________________________\n",
      "dense_23 (Dense)             (None, 20)                420       \n",
      "_________________________________________________________________\n",
      "dense_24 (Dense)             (None, 6)                 126       \n",
      "=================================================================\n",
      "Total params: 3,840,566\n",
      "Trainable params: 3,840,566\n",
      "Non-trainable params: 0\n",
      "_________________________________________________________________\n",
      "Train on 1891 samples, validate on 473 samples\n",
      "Epoch 1/50\n",
      "1891/1891 [==============================] - 7s 3ms/step - loss: 1.1608 - acc: 0.5621 - val_loss: 1.0910 - val_acc: 0.5518\n",
      "Epoch 2/50\n",
      "1891/1891 [==============================] - 3s 2ms/step - loss: 0.8893 - acc: 0.5822 - val_loss: 1.0110 - val_acc: 0.5518\n",
      "Epoch 3/50\n",
      "1891/1891 [==============================] - 3s 2ms/step - loss: 0.7117 - acc: 0.6393 - val_loss: 0.9655 - val_acc: 0.6681\n",
      "Epoch 4/50\n",
      "1891/1891 [==============================] - 3s 2ms/step - loss: 0.4596 - acc: 0.7895 - val_loss: 0.7400 - val_acc: 0.7822\n",
      "Epoch 5/50\n",
      "1891/1891 [==============================] - 3s 2ms/step - loss: 0.2529 - acc: 0.8710 - val_loss: 0.7131 - val_acc: 0.8076\n",
      "Epoch 6/50\n",
      "1891/1891 [==============================] - 4s 2ms/step - loss: 0.1592 - acc: 0.8958 - val_loss: 1.0504 - val_acc: 0.7315\n",
      "Epoch 7/50\n",
      "1891/1891 [==============================] - 4s 2ms/step - loss: 0.1322 - acc: 0.9006 - val_loss: 0.7575 - val_acc: 0.8351\n",
      "Epoch 8/50\n",
      "1891/1891 [==============================] - 4s 2ms/step - loss: 0.1065 - acc: 0.9096 - val_loss: 0.7892 - val_acc: 0.8330\n",
      "Epoch 9/50\n",
      "1891/1891 [==============================] - 4s 2ms/step - loss: 0.0885 - acc: 0.9149 - val_loss: 0.9731 - val_acc: 0.7696\n",
      "Epoch 10/50\n",
      "1891/1891 [==============================] - 4s 2ms/step - loss: 0.0781 - acc: 0.9360 - val_loss: 1.1144 - val_acc: 0.7357\n",
      "Epoch 11/50\n",
      "1891/1891 [==============================] - 4s 2ms/step - loss: 0.1164 - acc: 0.9217 - val_loss: 0.7778 - val_acc: 0.8309\n",
      "Epoch 12/50\n",
      "1891/1891 [==============================] - 4s 2ms/step - loss: 0.0626 - acc: 0.9482 - val_loss: 0.8722 - val_acc: 0.8245\n",
      "Epoch 13/50\n",
      "1891/1891 [==============================] - 4s 2ms/step - loss: 0.0479 - acc: 0.9508 - val_loss: 0.9574 - val_acc: 0.8055\n",
      "Epoch 14/50\n",
      "1891/1891 [==============================] - 4s 2ms/step - loss: 0.0410 - acc: 0.9540 - val_loss: 1.0421 - val_acc: 0.8055\n",
      "Epoch 15/50\n",
      "1891/1891 [==============================] - 4s 2ms/step - loss: 0.0365 - acc: 0.9551 - val_loss: 0.9625 - val_acc: 0.8288\n",
      "Epoch 16/50\n",
      "1891/1891 [==============================] - 4s 2ms/step - loss: 0.0355 - acc: 0.9545 - val_loss: 0.9884 - val_acc: 0.8372\n",
      "Epoch 17/50\n",
      "1891/1891 [==============================] - 4s 2ms/step - loss: 0.0654 - acc: 0.9429 - val_loss: 0.9495 - val_acc: 0.8288\n",
      "Epoch 18/50\n",
      "1891/1891 [==============================] - 4s 2ms/step - loss: 0.0342 - acc: 0.9556 - val_loss: 0.9293 - val_acc: 0.8393\n",
      "Epoch 19/50\n",
      "1891/1891 [==============================] - 4s 2ms/step - loss: 0.0320 - acc: 0.9556 - val_loss: 0.9454 - val_acc: 0.8436\n",
      "Epoch 20/50\n",
      "1891/1891 [==============================] - 4s 2ms/step - loss: 0.0316 - acc: 0.9551 - val_loss: 0.9791 - val_acc: 0.8372\n",
      "Epoch 21/50\n",
      "1891/1891 [==============================] - 4s 2ms/step - loss: 0.0315 - acc: 0.9551 - val_loss: 1.0371 - val_acc: 0.8351\n",
      "Epoch 22/50\n",
      "1891/1891 [==============================] - 4s 2ms/step - loss: 0.0313 - acc: 0.9551 - val_loss: 1.0694 - val_acc: 0.8351\n",
      "Epoch 23/50\n",
      "1891/1891 [==============================] - 4s 2ms/step - loss: 0.0313 - acc: 0.9551 - val_loss: 1.1272 - val_acc: 0.8330\n",
      "Epoch 24/50\n",
      "1891/1891 [==============================] - 4s 2ms/step - loss: 0.0312 - acc: 0.9556 - val_loss: 1.1935 - val_acc: 0.8288\n",
      "Epoch 25/50\n",
      "1891/1891 [==============================] - 4s 2ms/step - loss: 0.0312 - acc: 0.9556 - val_loss: 1.2416 - val_acc: 0.8330\n",
      "Epoch 26/50\n",
      "1891/1891 [==============================] - 4s 2ms/step - loss: 0.0312 - acc: 0.9556 - val_loss: 1.2261 - val_acc: 0.8372\n",
      "Epoch 27/50\n",
      "1891/1891 [==============================] - 5s 2ms/step - loss: 0.0312 - acc: 0.9556 - val_loss: 1.3626 - val_acc: 0.8245\n",
      "Epoch 28/50\n",
      "1891/1891 [==============================] - 4s 2ms/step - loss: 0.0312 - acc: 0.9556 - val_loss: 1.4104 - val_acc: 0.8224\n",
      "Epoch 29/50\n",
      "1891/1891 [==============================] - 4s 2ms/step - loss: 0.0312 - acc: 0.9556 - val_loss: 1.4282 - val_acc: 0.8245\n",
      "Epoch 30/50\n",
      "1891/1891 [==============================] - 4s 2ms/step - loss: 0.0312 - acc: 0.9556 - val_loss: 1.4263 - val_acc: 0.8330\n",
      "Epoch 31/50\n",
      "1891/1891 [==============================] - 4s 2ms/step - loss: 0.0312 - acc: 0.9556 - val_loss: 1.4414 - val_acc: 0.8351\n",
      "Epoch 32/50\n",
      "1891/1891 [==============================] - 4s 2ms/step - loss: 0.0312 - acc: 0.9556 - val_loss: 1.5138 - val_acc: 0.8309\n",
      "Epoch 33/50\n",
      "1891/1891 [==============================] - 5s 2ms/step - loss: 0.0312 - acc: 0.9556 - val_loss: 1.5670 - val_acc: 0.8245\n",
      "Epoch 34/50\n",
      "1891/1891 [==============================] - 5s 3ms/step - loss: 0.0312 - acc: 0.9561 - val_loss: 1.5710 - val_acc: 0.8288\n",
      "Epoch 35/50\n",
      "1891/1891 [==============================] - 5s 3ms/step - loss: 0.0312 - acc: 0.9561 - val_loss: 1.6065 - val_acc: 0.8266\n",
      "Epoch 36/50\n",
      "1891/1891 [==============================] - 4s 2ms/step - loss: 0.0312 - acc: 0.9572 - val_loss: 1.5339 - val_acc: 0.8351\n",
      "Epoch 37/50\n",
      "1891/1891 [==============================] - 5s 2ms/step - loss: 0.0312 - acc: 0.9561 - val_loss: 1.5865 - val_acc: 0.8351\n",
      "Epoch 38/50\n",
      "1891/1891 [==============================] - 5s 3ms/step - loss: 0.0312 - acc: 0.9572 - val_loss: 1.5879 - val_acc: 0.8330\n",
      "Epoch 39/50\n",
      "1891/1891 [==============================] - 5s 3ms/step - loss: 0.0312 - acc: 0.9593 - val_loss: 1.5921 - val_acc: 0.8351\n",
      "Epoch 40/50\n",
      "1891/1891 [==============================] - 5s 3ms/step - loss: 0.0312 - acc: 0.9603 - val_loss: 1.4734 - val_acc: 0.8372\n",
      "Epoch 41/50\n",
      "1891/1891 [==============================] - 4s 2ms/step - loss: 0.2288 - acc: 0.9413 - val_loss: 1.6189 - val_acc: 0.8182\n",
      "Epoch 42/50\n",
      "1891/1891 [==============================] - 4s 2ms/step - loss: 0.0312 - acc: 0.9625 - val_loss: 1.5400 - val_acc: 0.8224\n",
      "Epoch 43/50\n",
      "1891/1891 [==============================] - 4s 2ms/step - loss: 0.0312 - acc: 0.9619 - val_loss: 1.5185 - val_acc: 0.8288\n",
      "Epoch 44/50\n",
      "1891/1891 [==============================] - 4s 2ms/step - loss: 0.0312 - acc: 0.9619 - val_loss: 1.5080 - val_acc: 0.8288\n",
      "Epoch 45/50\n",
      "1891/1891 [==============================] - 4s 2ms/step - loss: 0.0312 - acc: 0.9619 - val_loss: 1.5005 - val_acc: 0.8288\n",
      "Epoch 46/50\n",
      "1891/1891 [==============================] - 4s 2ms/step - loss: 0.0312 - acc: 0.9619 - val_loss: 1.4958 - val_acc: 0.8266\n",
      "Epoch 47/50\n",
      "1891/1891 [==============================] - 4s 2ms/step - loss: 0.0312 - acc: 0.9614 - val_loss: 1.4930 - val_acc: 0.8266\n",
      "Epoch 48/50\n",
      "1891/1891 [==============================] - 4s 2ms/step - loss: 0.0312 - acc: 0.9614 - val_loss: 1.5176 - val_acc: 0.8372\n",
      "Epoch 49/50\n",
      "1891/1891 [==============================] - 4s 2ms/step - loss: 0.0308 - acc: 0.9625 - val_loss: 1.6111 - val_acc: 0.8330\n",
      "Epoch 50/50\n",
      "1891/1891 [==============================] - 4s 2ms/step - loss: 0.1085 - acc: 0.9434 - val_loss: 1.3953 - val_acc: 0.8457\n"
     ]
    }
   ],
   "source": [
    "model = Sequential()\n",
    "model.add(Embedding(10000,64, input_length = maxlen))\n",
    "model.add(Flatten())\n",
    "model.add(Dense(20,activation=\"relu\"))\n",
    "model.add(Dense(20, activation=\"relu\"))\n",
    "model.add(Dense(6, activation='sigmoid'))\n",
    "model.compile(optimizer='rmsprop', loss='categorical_crossentropy',metrics = ['accuracy'])\n",
    "model.summary()\n",
    "history = model.fit(X_trainP, y_trainP, epochs = 50, batch_size = 128, validation_split = 0.2)"
   ]
  },
  {
   "cell_type": "code",
   "execution_count": 95,
   "metadata": {},
   "outputs": [
    {
     "name": "stdout",
     "output_type": "stream",
     "text": [
      "789/789 [==============================] - 1s 650us/step\n"
     ]
    },
    {
     "data": {
      "text/plain": [
       "[2.687499891820214, 0.567807351757214]"
      ]
     },
     "execution_count": 95,
     "metadata": {},
     "output_type": "execute_result"
    }
   ],
   "source": [
    "resultsP = model.evaluate(X_testP, y_testP)\n",
    "resultsP"
   ]
  },
  {
   "cell_type": "markdown",
   "metadata": {},
   "source": [
    "<div class=\"alert alert-info\">\n",
    "<h2>Use pretrained word embedding</h2>\n",
    "</div>"
   ]
  },
  {
   "cell_type": "code",
   "execution_count": 35,
   "metadata": {},
   "outputs": [
    {
     "ename": "FileNotFoundError",
     "evalue": "[WinError 3] Le chemin d’accès spécifié est introuvable: 'C:\\\\Users\\\\Salim/aclImdb\\\\train\\\\neg'",
     "output_type": "error",
     "traceback": [
      "\u001b[1;31m---------------------------------------------------------------------------\u001b[0m",
      "\u001b[1;31mFileNotFoundError\u001b[0m                         Traceback (most recent call last)",
      "\u001b[1;32m<ipython-input-35-a4e9ae982d9e>\u001b[0m in \u001b[0;36m<module>\u001b[1;34m()\u001b[0m\n\u001b[0;32m     10\u001b[0m     \u001b[0mdir_name\u001b[0m \u001b[1;33m=\u001b[0m \u001b[0mos\u001b[0m\u001b[1;33m.\u001b[0m\u001b[0mpath\u001b[0m\u001b[1;33m.\u001b[0m\u001b[0mjoin\u001b[0m\u001b[1;33m(\u001b[0m\u001b[0mtrain_dir\u001b[0m\u001b[1;33m,\u001b[0m \u001b[0mlabel_type\u001b[0m\u001b[1;33m)\u001b[0m\u001b[1;33m\u001b[0m\u001b[0m\n\u001b[0;32m     11\u001b[0m \u001b[1;33m\u001b[0m\u001b[0m\n\u001b[1;32m---> 12\u001b[1;33m     \u001b[1;32mfor\u001b[0m \u001b[0mfname\u001b[0m \u001b[1;32min\u001b[0m \u001b[0mos\u001b[0m\u001b[1;33m.\u001b[0m\u001b[0mlistdir\u001b[0m\u001b[1;33m(\u001b[0m\u001b[0mdir_name\u001b[0m\u001b[1;33m)\u001b[0m\u001b[1;33m:\u001b[0m\u001b[1;33m\u001b[0m\u001b[0m\n\u001b[0m\u001b[0;32m     13\u001b[0m \u001b[1;33m\u001b[0m\u001b[0m\n\u001b[0;32m     14\u001b[0m         \u001b[1;32mif\u001b[0m \u001b[0mfname\u001b[0m\u001b[1;33m[\u001b[0m\u001b[1;33m-\u001b[0m\u001b[1;36m4\u001b[0m\u001b[1;33m:\u001b[0m\u001b[1;33m]\u001b[0m \u001b[1;33m==\u001b[0m \u001b[1;34m'.txt'\u001b[0m\u001b[1;33m:\u001b[0m\u001b[1;33m\u001b[0m\u001b[0m\n",
      "\u001b[1;31mFileNotFoundError\u001b[0m: [WinError 3] Le chemin d’accès spécifié est introuvable: 'C:\\\\Users\\\\Salim/aclImdb\\\\train\\\\neg'"
     ]
    }
   ],
   "source": [
    "imdb_dir = os.getcwd()+'/aclImdb'\n",
    "\n",
    "train_dir = os.path.join(imdb_dir, 'train')\n",
    "\n",
    "labels = []\n",
    "texts = []\n",
    "\n",
    "for label_type in ['neg', 'pos']:\n",
    "    \n",
    "    dir_name = os.path.join(train_dir, label_type)\n",
    "    \n",
    "    for fname in os.listdir(dir_name):\n",
    "        \n",
    "        if fname[-4:] == '.txt':\n",
    "            \n",
    "            f = open(os.path.join(dir_name, fname))\n",
    "            \n",
    "            texts.append(f.read())\n",
    "            \n",
    "            f.close()\n",
    "        if label_type == 'neg':\n",
    "\n",
    "            labels.append(0)\n",
    "\n",
    "        else:\n",
    "\n",
    "            labels.append(1)"
   ]
  },
  {
   "cell_type": "code",
   "execution_count": 231,
   "metadata": {},
   "outputs": [],
   "source": [
    "maxlen = 100\n",
    "\n",
    "training_samples = 200\n",
    "\n",
    "validation_samples = 10000\n",
    "\n",
    "max_words = 10000\n",
    "\n",
    "tokenizer = Tokenizer(num_words=max_words)\n",
    "\n",
    "tokenizer.fit_on_texts(texts)\n",
    "\n",
    "sequences = tokenizer.texts_to_sequences(texts)"
   ]
  },
  {
   "cell_type": "code",
   "execution_count": 232,
   "metadata": {},
   "outputs": [
    {
     "name": "stdout",
     "output_type": "stream",
     "text": [
      "Found 88582 unique tokens.\n",
      "Shape of data tensor: (25000, 100)\n",
      "Shape of label tensor: (25000,)\n"
     ]
    }
   ],
   "source": [
    "word_index = tokenizer.word_index\n",
    "\n",
    "print('Found %s unique tokens.' % len(word_index))\n",
    "\n",
    "data = pad_sequences(sequences, maxlen=maxlen)\n",
    "\n",
    "labels = np.asarray(labels)\n",
    "\n",
    "print('Shape of data tensor:', data.shape)\n",
    "print('Shape of label tensor:', labels.shape)\n",
    "\n",
    "indices = np.arange(data.shape[0])\n",
    "\n",
    "np.random.shuffle(indices)\n",
    "\n",
    "data = data[indices]\n",
    "\n",
    "labels = labels[indices]\n",
    "\n",
    "x_train = data[:training_samples]\n",
    "\n",
    "y_train = labels[:training_samples]\n",
    "\n",
    "x_val   = data[training_samples: training_samples + validation_samples]\n",
    "\n",
    "y_val   = labels[training_samples: training_samples + validation_samples]\n",
    "\n",
    "\n"
   ]
  },
  {
   "cell_type": "code",
   "execution_count": null,
   "metadata": {},
   "outputs": [],
   "source": []
  }
 ],
 "metadata": {
  "kernelspec": {
   "display_name": "Python 3",
   "language": "python",
   "name": "python3"
  },
  "language_info": {
   "codemirror_mode": {
    "name": "ipython",
    "version": 3
   },
   "file_extension": ".py",
   "mimetype": "text/x-python",
   "name": "python",
   "nbconvert_exporter": "python",
   "pygments_lexer": "ipython3",
   "version": "3.5.6"
  }
 },
 "nbformat": 4,
 "nbformat_minor": 2
}
